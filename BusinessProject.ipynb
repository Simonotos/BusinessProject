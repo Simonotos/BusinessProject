{
 "cells": [
  {
   "cell_type": "markdown",
   "id": "24fbb0ca",
   "metadata": {},
   "source": [
    "1. Sommario dei dati utilizzati"
   ]
  },
  {
   "cell_type": "markdown",
   "id": "d354eaaa",
   "metadata": {},
   "source": [
    "a. Breve descrizione di ciascun titolo selezionato e motivazione della scelta"
   ]
  },
  {
   "cell_type": "markdown",
   "id": "b20b9fe1",
   "metadata": {},
   "source": [
    "Settori: automobili, tecnologia e medicina\n",
    "\n",
    "notizie che ritengo rilevanti al fine di generare una crescita di interesse verso l'azienda \"nome_azienda\":\n",
    "\n",
    "nome_azienda = \"TESLA\"\n",
    "1. Partorisce in una Tesla mentre l'autopilot la porta in ospedale\n",
    "link notizia: https://www.corriere.it/motori/news/nuova-mobilita/21_dicembre_21/partorisce-traffico-una-tesla-l-autopilot-impostato-l-ospedale-97648fd6-6239-11ec-a583-0974d17fd3de.shtml\n",
    "\n",
    "2. Nuovamente premiata la sicurezza Tesla: pieni voti ai crash test della model Y 2022\n",
    "link notizia: https://www.automoto.it/elettrico/nuovamente-premiata-la-sicurezza-tesla-pieni-voti-ai-crash-test-della-model-y-2022-video.html\n",
    "\n",
    "\n",
    "nome_azienda = \"NIO\":\n",
    "1. NIO, la nuova ET5 minaccia Tesla Model 3? secondo i media locali, il nuovo veicolo ha fatto registrare un livello record di pre-ordini\n",
    "https://it.investing.com/news/stock-market-news/nio-la-nuova-et5-minaccia-tesla-model-3-2032890\n",
    "\n",
    "\n",
    "nome_azienda = \"META PLATFORMS\"\n",
    "1. L'annuncio della posizione/mission che Facebook vuole adottare nel futuro verso il metaverso ha suscitato un enorme interesse verso di essa. Soprattutto la nascita di esperienze legate al metaverso e al mondo NFT come The Sandbox e la partecipazione in quest'ultimo da parte di grandi aziende fa capire la direzione che assuemerà la tecnologia e l'economia del futuro. Più che futuro è un cambiamento che sta avvenendo già adesso.\n",
    "link presentazione meta: https://www.youtube.com/watch?v=Uvufun6xer8&t=4086s\n",
    "link the sandbox: https://www.everyeye.it/articoli/provato-the-sandbox-prova-primi-passi-metaverso-55547.html\n",
    "\n",
    "\n",
    "nome_azienda = \"APPLE\"\n",
    "1. Apple è sul punto di superare una capitalizzazione di mercato di 3000 miliardi di dollari, diventando potenzialmente la prima azienda al mondo a riuscirci\n",
    "link notizia: https://it.investing.com/news/stock-market-news/target-price-su-apple-nuovo-massimo-da-wall-street-2031992\n",
    "\n",
    "\n",
    "nome_azienda = \"NOVAVAX\"\n",
    "1.  le azioni Novavax Inc (NASDAQ:NVAX) hanno avuto un rialzo dopo che la società ha annunciato che l'Agenzia europea per i medicinali ha raccomandato la concessione dell'autorizzazione all'immissione in commercio condizionata per il suo vaccino anti-Covid, NVX-CoV2373, al fine di prevenire il COVID-19 nelle persone di età pari o superiore a 18 anni.\n",
    "link notizia: https://it.investing.com/news/stock-market-news/novavax-perche-il-titolo-e-in-aumento-oggi-2032994\n",
    "\n",
    "\n",
    "nome_azienda = \"VIATRIS\"\n",
    "1. Viatris Inc. una nuova azienda con la mission della global healthcare è stata aggiunta alla lista degli America's most Responsible Companies 2022. Premio riconosciuto da Newsweek e Statista Inc., il miglior portale al mondo di statistica e ranking aziendali. La lista a cui è stata aggiunta, riconosce le top 500 responsible companies negli Stati Uniti. Si sono classificati 167 esimi e nella Top 20 nella categoria Health Care & Life Sciences.\n",
    "link notizia: https://www.prnewswire.com/news-releases/viatris-named-by-newsweek-as-one-of-americas-most-responsible-companies-301437781.html\n",
    "\n"
   ]
  },
  {
   "cell_type": "markdown",
   "id": "2b62c83a",
   "metadata": {},
   "source": [
    "_______________________________________________________________________________________________________________________"
   ]
  },
  {
   "cell_type": "code",
   "execution_count": 8,
   "id": "4d34a126",
   "metadata": {},
   "outputs": [
    {
     "name": "stdout",
     "output_type": "stream",
     "text": [
      "Requirement already satisfied: yfinance in d:\\anacondapython\\lib\\site-packages (0.1.67)\n",
      "Requirement already satisfied: requests>=2.20 in d:\\anacondapython\\lib\\site-packages (from yfinance) (2.26.0)\n",
      "Requirement already satisfied: lxml>=4.5.1 in d:\\anacondapython\\lib\\site-packages (from yfinance) (4.6.3)\n",
      "Requirement already satisfied: pandas>=0.24 in d:\\anacondapython\\lib\\site-packages (from yfinance) (1.3.4)\n",
      "Requirement already satisfied: multitasking>=0.0.7 in d:\\anacondapython\\lib\\site-packages (from yfinance) (0.0.10)\n",
      "Requirement already satisfied: numpy>=1.15 in d:\\anacondapython\\lib\\site-packages (from yfinance) (1.20.3)\n",
      "Requirement already satisfied: pytz>=2017.3 in d:\\anacondapython\\lib\\site-packages (from pandas>=0.24->yfinance) (2021.3)\n",
      "Requirement already satisfied: python-dateutil>=2.7.3 in d:\\anacondapython\\lib\\site-packages (from pandas>=0.24->yfinance) (2.8.2)\n",
      "Requirement already satisfied: six>=1.5 in d:\\anacondapython\\lib\\site-packages (from python-dateutil>=2.7.3->pandas>=0.24->yfinance) (1.16.0)\n",
      "Requirement already satisfied: certifi>=2017.4.17 in d:\\anacondapython\\lib\\site-packages (from requests>=2.20->yfinance) (2021.10.8)\n",
      "Requirement already satisfied: charset-normalizer~=2.0.0 in d:\\anacondapython\\lib\\site-packages (from requests>=2.20->yfinance) (2.0.4)\n",
      "Requirement already satisfied: urllib3<1.27,>=1.21.1 in d:\\anacondapython\\lib\\site-packages (from requests>=2.20->yfinance) (1.26.7)\n",
      "Requirement already satisfied: idna<4,>=2.5 in d:\\anacondapython\\lib\\site-packages (from requests>=2.20->yfinance) (3.2)\n"
     ]
    }
   ],
   "source": [
    "# Install a pip package in the current Jupyter kernel\n",
    "import sys\n",
    "!{sys.executable} -m pip install yfinance"
   ]
  },
  {
   "cell_type": "markdown",
   "id": "917668e5",
   "metadata": {},
   "source": [
    "b. Funzioni utilizzate per scaricare i dati da Yahoo! Finance o da altri siti"
   ]
  },
  {
   "cell_type": "code",
   "execution_count": 9,
   "id": "86029cc8",
   "metadata": {},
   "outputs": [
    {
     "name": "stdout",
     "output_type": "stream",
     "text": [
      "[*********************100%***********************]  1 of 1 completed\n",
      "[*********************100%***********************]  1 of 1 completed\n"
     ]
    }
   ],
   "source": [
    "import pandas as pd\n",
    "import yfinance as yf\n",
    "\n",
    "meta_df = yf.download('FB', start='2011-11-30', end='2021-11-30')\n",
    "apple_df = yf.download('AAPL', start='2011-11-30', end='2021-11-30')"
   ]
  },
  {
   "cell_type": "markdown",
   "id": "d7bb8141",
   "metadata": {},
   "source": [
    "c. Funzioni utilizzate per la fusione delle serie in un unico DataFrame\n",
    "\n",
    "d. Presentazione dei dati con un grafico e le prime righe del DataFrame"
   ]
  },
  {
   "cell_type": "code",
   "execution_count": 10,
   "id": "b8dfb157",
   "metadata": {},
   "outputs": [
    {
     "data": {
      "text/html": [
       "<div>\n",
       "<style scoped>\n",
       "    .dataframe tbody tr th:only-of-type {\n",
       "        vertical-align: middle;\n",
       "    }\n",
       "\n",
       "    .dataframe tbody tr th {\n",
       "        vertical-align: top;\n",
       "    }\n",
       "\n",
       "    .dataframe thead th {\n",
       "        text-align: right;\n",
       "    }\n",
       "</style>\n",
       "<table border=\"1\" class=\"dataframe\">\n",
       "  <thead>\n",
       "    <tr style=\"text-align: right;\">\n",
       "      <th></th>\n",
       "      <th>Open_Meta</th>\n",
       "      <th>High_Meta</th>\n",
       "      <th>Low_Meta</th>\n",
       "      <th>Close_Meta</th>\n",
       "      <th>Adj Close_Meta</th>\n",
       "      <th>Volume_Meta</th>\n",
       "      <th>Open_Apple</th>\n",
       "      <th>High_Apple</th>\n",
       "      <th>Low_Apple</th>\n",
       "      <th>Close_Apple</th>\n",
       "      <th>Adj Close_Apple</th>\n",
       "      <th>Volume_Apple</th>\n",
       "    </tr>\n",
       "    <tr>\n",
       "      <th>Date</th>\n",
       "      <th></th>\n",
       "      <th></th>\n",
       "      <th></th>\n",
       "      <th></th>\n",
       "      <th></th>\n",
       "      <th></th>\n",
       "      <th></th>\n",
       "      <th></th>\n",
       "      <th></th>\n",
       "      <th></th>\n",
       "      <th></th>\n",
       "      <th></th>\n",
       "    </tr>\n",
       "  </thead>\n",
       "  <tbody>\n",
       "    <tr>\n",
       "      <th>2012-05-18</th>\n",
       "      <td>42.049999</td>\n",
       "      <td>45.000000</td>\n",
       "      <td>38.000000</td>\n",
       "      <td>38.230000</td>\n",
       "      <td>38.230000</td>\n",
       "      <td>573576400</td>\n",
       "      <td>19.070000</td>\n",
       "      <td>19.407499</td>\n",
       "      <td>18.649286</td>\n",
       "      <td>18.942142</td>\n",
       "      <td>16.240330</td>\n",
       "      <td>732292400</td>\n",
       "    </tr>\n",
       "    <tr>\n",
       "      <th>2012-05-21</th>\n",
       "      <td>36.529999</td>\n",
       "      <td>36.660000</td>\n",
       "      <td>33.000000</td>\n",
       "      <td>34.029999</td>\n",
       "      <td>34.029999</td>\n",
       "      <td>168192700</td>\n",
       "      <td>19.089287</td>\n",
       "      <td>20.055000</td>\n",
       "      <td>19.073214</td>\n",
       "      <td>20.045713</td>\n",
       "      <td>17.186499</td>\n",
       "      <td>631106000</td>\n",
       "    </tr>\n",
       "    <tr>\n",
       "      <th>2012-05-22</th>\n",
       "      <td>32.610001</td>\n",
       "      <td>33.590000</td>\n",
       "      <td>30.940001</td>\n",
       "      <td>31.000000</td>\n",
       "      <td>31.000000</td>\n",
       "      <td>101786600</td>\n",
       "      <td>20.341070</td>\n",
       "      <td>20.495714</td>\n",
       "      <td>19.735001</td>\n",
       "      <td>19.891787</td>\n",
       "      <td>17.054522</td>\n",
       "      <td>694870400</td>\n",
       "    </tr>\n",
       "    <tr>\n",
       "      <th>2012-05-23</th>\n",
       "      <td>31.370001</td>\n",
       "      <td>32.500000</td>\n",
       "      <td>31.360001</td>\n",
       "      <td>32.000000</td>\n",
       "      <td>32.000000</td>\n",
       "      <td>73600000</td>\n",
       "      <td>19.910713</td>\n",
       "      <td>20.457144</td>\n",
       "      <td>19.758215</td>\n",
       "      <td>20.377144</td>\n",
       "      <td>17.470654</td>\n",
       "      <td>584897600</td>\n",
       "    </tr>\n",
       "    <tr>\n",
       "      <th>2012-05-24</th>\n",
       "      <td>32.950001</td>\n",
       "      <td>33.209999</td>\n",
       "      <td>31.770000</td>\n",
       "      <td>33.029999</td>\n",
       "      <td>33.029999</td>\n",
       "      <td>50237200</td>\n",
       "      <td>20.566786</td>\n",
       "      <td>20.589287</td>\n",
       "      <td>20.043928</td>\n",
       "      <td>20.190001</td>\n",
       "      <td>17.310198</td>\n",
       "      <td>496230000</td>\n",
       "    </tr>\n",
       "  </tbody>\n",
       "</table>\n",
       "</div>"
      ],
      "text/plain": [
       "            Open_Meta  High_Meta   Low_Meta  Close_Meta  Adj Close_Meta  \\\n",
       "Date                                                                      \n",
       "2012-05-18  42.049999  45.000000  38.000000   38.230000       38.230000   \n",
       "2012-05-21  36.529999  36.660000  33.000000   34.029999       34.029999   \n",
       "2012-05-22  32.610001  33.590000  30.940001   31.000000       31.000000   \n",
       "2012-05-23  31.370001  32.500000  31.360001   32.000000       32.000000   \n",
       "2012-05-24  32.950001  33.209999  31.770000   33.029999       33.029999   \n",
       "\n",
       "            Volume_Meta  Open_Apple  High_Apple  Low_Apple  Close_Apple  \\\n",
       "Date                                                                      \n",
       "2012-05-18    573576400   19.070000   19.407499  18.649286    18.942142   \n",
       "2012-05-21    168192700   19.089287   20.055000  19.073214    20.045713   \n",
       "2012-05-22    101786600   20.341070   20.495714  19.735001    19.891787   \n",
       "2012-05-23     73600000   19.910713   20.457144  19.758215    20.377144   \n",
       "2012-05-24     50237200   20.566786   20.589287  20.043928    20.190001   \n",
       "\n",
       "            Adj Close_Apple  Volume_Apple  \n",
       "Date                                       \n",
       "2012-05-18        16.240330     732292400  \n",
       "2012-05-21        17.186499     631106000  \n",
       "2012-05-22        17.054522     694870400  \n",
       "2012-05-23        17.470654     584897600  \n",
       "2012-05-24        17.310198     496230000  "
      ]
     },
     "execution_count": 10,
     "metadata": {},
     "output_type": "execute_result"
    }
   ],
   "source": [
    "meta_apple = meta_df.join(apple_df, lsuffix=\"_Meta\", rsuffix=\"_Apple\")\n",
    "meta_apple.head()"
   ]
  },
  {
   "cell_type": "markdown",
   "id": "103e314f",
   "metadata": {},
   "source": [
    "_______________________________________________________________________________________________________________________"
   ]
  },
  {
   "cell_type": "code",
   "execution_count": 11,
   "id": "8b337b7f",
   "metadata": {
    "scrolled": true
   },
   "outputs": [
    {
     "data": {
      "image/png": "[encoded data removed]",
      "text/plain": [
       "<Figure size 432x288 with 1 Axes>"
      ]
     },
     "metadata": {
      "needs_background": "light"
     },
     "output_type": "display_data"
    }
   ],
   "source": [
    "import matplotlib.pyplot as plt\n",
    "meta_apple = meta_apple[[\"Adj Close_Meta\", \"Adj Close_Apple\"]]\n",
    "meta_apple.plot(grid = True)\n",
    "plt.grid()\n",
    "plt.show()"
   ]
  },
  {
   "cell_type": "markdown",
   "id": "d1e89843",
   "metadata": {},
   "source": [
    "_______________________________________________________________________________________________________________________"
   ]
  },
  {
   "cell_type": "markdown",
   "id": "00cd8089",
   "metadata": {},
   "source": [
    "Chiusura: Chiaramente le stesse librerie vengono utilizzate per tutte le aziende prese in considerazioni. Ciò che ho riportato sopra è un esempio di applicazione di utilizzo."
   ]
  },
  {
   "cell_type": "markdown",
   "id": "d38b4320",
   "metadata": {},
   "source": [
    "_______________________________________________________________________________________________________"
   ]
  },
  {
   "cell_type": "markdown",
   "id": "927acd33",
   "metadata": {},
   "source": [
    "2. Statistiche Descrittive"
   ]
  },
  {
   "cell_type": "markdown",
   "id": "96f9ffc4",
   "metadata": {},
   "source": [
    "_______________________________________________________________________________________________________________________________"
   ]
  },
  {
   "cell_type": "code",
   "execution_count": 12,
   "id": "9d2e53a6",
   "metadata": {},
   "outputs": [
    {
     "name": "stdout",
     "output_type": "stream",
     "text": [
      "[*********************100%***********************]  1 of 1 completed\n"
     ]
    },
    {
     "data": {
      "text/html": [
       "<div>\n",
       "<style scoped>\n",
       "    .dataframe tbody tr th:only-of-type {\n",
       "        vertical-align: middle;\n",
       "    }\n",
       "\n",
       "    .dataframe tbody tr th {\n",
       "        vertical-align: top;\n",
       "    }\n",
       "\n",
       "    .dataframe thead th {\n",
       "        text-align: right;\n",
       "    }\n",
       "</style>\n",
       "<table border=\"1\" class=\"dataframe\">\n",
       "  <thead>\n",
       "    <tr style=\"text-align: right;\">\n",
       "      <th></th>\n",
       "      <th>Open</th>\n",
       "      <th>High</th>\n",
       "      <th>Low</th>\n",
       "      <th>Close</th>\n",
       "      <th>Adj Close</th>\n",
       "      <th>Volume</th>\n",
       "    </tr>\n",
       "    <tr>\n",
       "      <th>Date</th>\n",
       "      <th></th>\n",
       "      <th></th>\n",
       "      <th></th>\n",
       "      <th></th>\n",
       "      <th></th>\n",
       "      <th></th>\n",
       "    </tr>\n",
       "  </thead>\n",
       "  <tbody>\n",
       "    <tr>\n",
       "      <th>2012-05-31</th>\n",
       "      <td>33.015556</td>\n",
       "      <td>33.868889</td>\n",
       "      <td>31.057778</td>\n",
       "      <td>31.870000</td>\n",
       "      <td>31.870000</td>\n",
       "      <td>1.390570e+08</td>\n",
       "    </tr>\n",
       "    <tr>\n",
       "      <th>2012-06-30</th>\n",
       "      <td>29.537143</td>\n",
       "      <td>30.232381</td>\n",
       "      <td>28.893333</td>\n",
       "      <td>29.540476</td>\n",
       "      <td>29.540476</td>\n",
       "      <td>3.180526e+07</td>\n",
       "    </tr>\n",
       "    <tr>\n",
       "      <th>2012-07-31</th>\n",
       "      <td>29.143333</td>\n",
       "      <td>29.598095</td>\n",
       "      <td>28.437619</td>\n",
       "      <td>28.880000</td>\n",
       "      <td>28.880000</td>\n",
       "      <td>2.477094e+07</td>\n",
       "    </tr>\n",
       "    <tr>\n",
       "      <th>2012-08-31</th>\n",
       "      <td>20.287391</td>\n",
       "      <td>20.644783</td>\n",
       "      <td>19.768696</td>\n",
       "      <td>20.108261</td>\n",
       "      <td>20.108261</td>\n",
       "      <td>5.008456e+07</td>\n",
       "    </tr>\n",
       "    <tr>\n",
       "      <th>2012-09-30</th>\n",
       "      <td>20.629474</td>\n",
       "      <td>21.089474</td>\n",
       "      <td>20.170526</td>\n",
       "      <td>20.627895</td>\n",
       "      <td>20.627895</td>\n",
       "      <td>5.571809e+07</td>\n",
       "    </tr>\n",
       "  </tbody>\n",
       "</table>\n",
       "</div>"
      ],
      "text/plain": [
       "                 Open       High        Low      Close  Adj Close  \\\n",
       "Date                                                                \n",
       "2012-05-31  33.015556  33.868889  31.057778  31.870000  31.870000   \n",
       "2012-06-30  29.537143  30.232381  28.893333  29.540476  29.540476   \n",
       "2012-07-31  29.143333  29.598095  28.437619  28.880000  28.880000   \n",
       "2012-08-31  20.287391  20.644783  19.768696  20.108261  20.108261   \n",
       "2012-09-30  20.629474  21.089474  20.170526  20.627895  20.627895   \n",
       "\n",
       "                  Volume  \n",
       "Date                      \n",
       "2012-05-31  1.390570e+08  \n",
       "2012-06-30  3.180526e+07  \n",
       "2012-07-31  2.477094e+07  \n",
       "2012-08-31  5.008456e+07  \n",
       "2012-09-30  5.571809e+07  "
      ]
     },
     "execution_count": 12,
     "metadata": {},
     "output_type": "execute_result"
    }
   ],
   "source": [
    "import pandas as pd\n",
    "import numpy as np\n",
    "import yfinance as yf\n",
    "#Tecnologia\n",
    "meta_df = yf.download('FB', start='2011-11-30', end='2021-11-30')\n",
    "meta_df = meta_df.groupby(pd.Grouper(freq='M')).mean()\n",
    "meta_df.head()"
   ]
  },
  {
   "cell_type": "markdown",
   "id": "37e926db",
   "metadata": {},
   "source": [
    "_______________________________________________________________________________________________________________________________"
   ]
  },
  {
   "cell_type": "markdown",
   "id": "1318bd06",
   "metadata": {},
   "source": [
    "a. Calcolare i rendimenti semplici e composti e visualizzarli in un grafico"
   ]
  },
  {
   "cell_type": "markdown",
   "id": "e3c80559",
   "metadata": {},
   "source": [
    "_______________________________________________________________________________________________________________________________"
   ]
  },
  {
   "cell_type": "markdown",
   "id": "bc396c95",
   "metadata": {},
   "source": [
    "Rendimenti Semplici"
   ]
  },
  {
   "cell_type": "markdown",
   "id": "eec43131",
   "metadata": {},
   "source": [
    "_______________________________________________________________________________________________________________________________"
   ]
  },
  {
   "cell_type": "code",
   "execution_count": 121,
   "id": "54c0b434",
   "metadata": {},
   "outputs": [
    {
     "data": {
      "text/html": [
       "<div>\n",
       "<style scoped>\n",
       "    .dataframe tbody tr th:only-of-type {\n",
       "        vertical-align: middle;\n",
       "    }\n",
       "\n",
       "    .dataframe tbody tr th {\n",
       "        vertical-align: top;\n",
       "    }\n",
       "\n",
       "    .dataframe thead th {\n",
       "        text-align: right;\n",
       "    }\n",
       "</style>\n",
       "<table border=\"1\" class=\"dataframe\">\n",
       "  <thead>\n",
       "    <tr style=\"text-align: right;\">\n",
       "      <th></th>\n",
       "      <th>Rendimenti Netti Meta</th>\n",
       "      <th>Rendimenti Lordi Meta</th>\n",
       "      <th>Rendimenti Netti Apple</th>\n",
       "      <th>Rendimenti Lordi Apple</th>\n",
       "    </tr>\n",
       "    <tr>\n",
       "      <th>Date</th>\n",
       "      <th></th>\n",
       "      <th></th>\n",
       "      <th></th>\n",
       "      <th></th>\n",
       "    </tr>\n",
       "  </thead>\n",
       "  <tbody>\n",
       "    <tr>\n",
       "      <th>2012-05-21</th>\n",
       "      <td>-0.116378</td>\n",
       "      <td>-0.123726</td>\n",
       "      <td>0.056626</td>\n",
       "      <td>0.055081</td>\n",
       "    </tr>\n",
       "    <tr>\n",
       "      <th>2012-05-22</th>\n",
       "      <td>-0.093255</td>\n",
       "      <td>-0.097894</td>\n",
       "      <td>-0.007709</td>\n",
       "      <td>-0.007739</td>\n",
       "    </tr>\n",
       "    <tr>\n",
       "      <th>2012-05-23</th>\n",
       "      <td>0.031749</td>\n",
       "      <td>0.031255</td>\n",
       "      <td>0.024107</td>\n",
       "      <td>0.023821</td>\n",
       "    </tr>\n",
       "    <tr>\n",
       "      <th>2012-05-24</th>\n",
       "      <td>0.031680</td>\n",
       "      <td>0.031189</td>\n",
       "      <td>-0.009227</td>\n",
       "      <td>-0.009269</td>\n",
       "    </tr>\n",
       "    <tr>\n",
       "      <th>2012-05-25</th>\n",
       "      <td>-0.034497</td>\n",
       "      <td>-0.035106</td>\n",
       "      <td>-0.005374</td>\n",
       "      <td>-0.005388</td>\n",
       "    </tr>\n",
       "    <tr>\n",
       "      <th>...</th>\n",
       "      <td>...</td>\n",
       "      <td>...</td>\n",
       "      <td>...</td>\n",
       "      <td>...</td>\n",
       "    </tr>\n",
       "    <tr>\n",
       "      <th>2021-11-22</th>\n",
       "      <td>-0.012502</td>\n",
       "      <td>-0.012581</td>\n",
       "      <td>0.002923</td>\n",
       "      <td>0.002919</td>\n",
       "    </tr>\n",
       "    <tr>\n",
       "      <th>2021-11-23</th>\n",
       "      <td>-0.011087</td>\n",
       "      <td>-0.011149</td>\n",
       "      <td>0.002419</td>\n",
       "      <td>0.002416</td>\n",
       "    </tr>\n",
       "    <tr>\n",
       "      <th>2021-11-24</th>\n",
       "      <td>0.011234</td>\n",
       "      <td>0.011171</td>\n",
       "      <td>0.003278</td>\n",
       "      <td>0.003273</td>\n",
       "    </tr>\n",
       "    <tr>\n",
       "      <th>2021-11-26</th>\n",
       "      <td>-0.023556</td>\n",
       "      <td>-0.023838</td>\n",
       "      <td>-0.032191</td>\n",
       "      <td>-0.032721</td>\n",
       "    </tr>\n",
       "    <tr>\n",
       "      <th>2021-11-29</th>\n",
       "      <td>0.014632</td>\n",
       "      <td>0.014526</td>\n",
       "      <td>0.021638</td>\n",
       "      <td>0.021407</td>\n",
       "    </tr>\n",
       "  </tbody>\n",
       "</table>\n",
       "<p>2398 rows × 4 columns</p>\n",
       "</div>"
      ],
      "text/plain": [
       "            Rendimenti Netti Meta  Rendimenti Lordi Meta  \\\n",
       "Date                                                       \n",
       "2012-05-21              -0.116378              -0.123726   \n",
       "2012-05-22              -0.093255              -0.097894   \n",
       "2012-05-23               0.031749               0.031255   \n",
       "2012-05-24               0.031680               0.031189   \n",
       "2012-05-25              -0.034497              -0.035106   \n",
       "...                           ...                    ...   \n",
       "2021-11-22              -0.012502              -0.012581   \n",
       "2021-11-23              -0.011087              -0.011149   \n",
       "2021-11-24               0.011234               0.011171   \n",
       "2021-11-26              -0.023556              -0.023838   \n",
       "2021-11-29               0.014632               0.014526   \n",
       "\n",
       "            Rendimenti Netti Apple  Rendimenti Lordi Apple  \n",
       "Date                                                        \n",
       "2012-05-21                0.056626                0.055081  \n",
       "2012-05-22               -0.007709               -0.007739  \n",
       "2012-05-23                0.024107                0.023821  \n",
       "2012-05-24               -0.009227               -0.009269  \n",
       "2012-05-25               -0.005374               -0.005388  \n",
       "...                            ...                     ...  \n",
       "2021-11-22                0.002923                0.002919  \n",
       "2021-11-23                0.002419                0.002416  \n",
       "2021-11-24                0.003278                0.003273  \n",
       "2021-11-26               -0.032191               -0.032721  \n",
       "2021-11-29                0.021638                0.021407  \n",
       "\n",
       "[2398 rows x 4 columns]"
      ]
     },
     "execution_count": 121,
     "metadata": {},
     "output_type": "execute_result"
    }
   ],
   "source": [
    "import numpy as np\n",
    "import yfinance as yf\n",
    "import matplotlib.pyplot as plt\n",
    "#Tecnologia\n",
    "meta_month_returns = meta_df[['Adj Close']]\n",
    "apple_month_returns = apple_df[['Adj Close']]\n",
    "rendimenti_df = pd.DataFrame()\n",
    "\n",
    "rendimenti_netti_meta = np.log(meta_month_returns/meta_month_returns.shift(1))\n",
    "rendimenti_lordi_meta = np.log(rendimenti_netti_meta + 1)\n",
    "\n",
    "rendimenti_netti_apple = np.log(apple_month_returns/apple_month_returns.shift(1))\n",
    "rendimenti_lordi_apple = np.log(rendimenti_netti_apple + 1)\n",
    "\n",
    "rendimenti_df[\"Rendimenti Netti Meta\"] = rendimenti_netti_meta\n",
    "rendimenti_df[\"Rendimenti Lordi Meta\"] = rendimenti_lordi_meta\n",
    "rendimenti_df[\"Rendimenti Netti Apple\"] = rendimenti_netti_apple\n",
    "rendimenti_df[\"Rendimenti Lordi Apple\"] = rendimenti_lordi_apple\n",
    "rendimenti_df = rendimenti_df.dropna()\n",
    "\n",
    "rendimenti_df"
   ]
  },
  {
   "cell_type": "code",
   "execution_count": 122,
   "id": "1c49a412",
   "metadata": {},
   "outputs": [
    {
     "data": {
      "image/png": "[encoded data removed]",
      "text/plain": [
       "<Figure size 864x576 with 1 Axes>"
      ]
     },
     "metadata": {},
     "output_type": "display_data"
    }
   ],
   "source": [
    "rendimenti_df[\"Rendimenti Netti Meta\"].plot(figsize=(12,8))\n",
    "rendimenti_df[\"Rendimenti Netti Apple\"].plot(figsize=(12,8))\n",
    "plt.show()"
   ]
  },
  {
   "cell_type": "markdown",
   "id": "bbfdd551",
   "metadata": {},
   "source": [
    "_______________________________________________________________________________________________________"
   ]
  },
  {
   "cell_type": "markdown",
   "id": "0534d796",
   "metadata": {},
   "source": [
    "Rendimenti Composti"
   ]
  },
  {
   "cell_type": "markdown",
   "id": "d7f40268",
   "metadata": {},
   "source": [
    "_______________________________________________________________________________________________________________________________"
   ]
  },
  {
   "cell_type": "code",
   "execution_count": 123,
   "id": "a1ad4612",
   "metadata": {},
   "outputs": [
    {
     "data": {
      "text/html": [
       "<div>\n",
       "<style scoped>\n",
       "    .dataframe tbody tr th:only-of-type {\n",
       "        vertical-align: middle;\n",
       "    }\n",
       "\n",
       "    .dataframe tbody tr th {\n",
       "        vertical-align: top;\n",
       "    }\n",
       "\n",
       "    .dataframe thead th {\n",
       "        text-align: right;\n",
       "    }\n",
       "</style>\n",
       "<table border=\"1\" class=\"dataframe\">\n",
       "  <thead>\n",
       "    <tr style=\"text-align: right;\">\n",
       "      <th></th>\n",
       "      <th>Rendimento Composto Meta</th>\n",
       "      <th>Rendimento Composto Apple</th>\n",
       "    </tr>\n",
       "    <tr>\n",
       "      <th>Date</th>\n",
       "      <th></th>\n",
       "      <th></th>\n",
       "    </tr>\n",
       "  </thead>\n",
       "  <tbody>\n",
       "    <tr>\n",
       "      <th>2012-05-21</th>\n",
       "      <td>0.883622</td>\n",
       "      <td>1.473701</td>\n",
       "    </tr>\n",
       "    <tr>\n",
       "      <th>2012-05-22</th>\n",
       "      <td>0.801220</td>\n",
       "      <td>1.462340</td>\n",
       "    </tr>\n",
       "    <tr>\n",
       "      <th>2012-05-23</th>\n",
       "      <td>0.826657</td>\n",
       "      <td>1.497593</td>\n",
       "    </tr>\n",
       "    <tr>\n",
       "      <th>2012-05-24</th>\n",
       "      <td>0.852846</td>\n",
       "      <td>1.483775</td>\n",
       "    </tr>\n",
       "    <tr>\n",
       "      <th>2012-05-25</th>\n",
       "      <td>0.823426</td>\n",
       "      <td>1.475801</td>\n",
       "    </tr>\n",
       "    <tr>\n",
       "      <th>...</th>\n",
       "      <td>...</td>\n",
       "      <td>...</td>\n",
       "    </tr>\n",
       "    <tr>\n",
       "      <th>2021-11-22</th>\n",
       "      <td>4.747360</td>\n",
       "      <td>9.426776</td>\n",
       "    </tr>\n",
       "    <tr>\n",
       "      <th>2021-11-23</th>\n",
       "      <td>4.694724</td>\n",
       "      <td>9.449581</td>\n",
       "    </tr>\n",
       "    <tr>\n",
       "      <th>2021-11-24</th>\n",
       "      <td>4.747464</td>\n",
       "      <td>9.480558</td>\n",
       "    </tr>\n",
       "    <tr>\n",
       "      <th>2021-11-26</th>\n",
       "      <td>4.635635</td>\n",
       "      <td>9.175369</td>\n",
       "    </tr>\n",
       "    <tr>\n",
       "      <th>2021-11-29</th>\n",
       "      <td>4.703463</td>\n",
       "      <td>9.373905</td>\n",
       "    </tr>\n",
       "  </tbody>\n",
       "</table>\n",
       "<p>2398 rows × 2 columns</p>\n",
       "</div>"
      ],
      "text/plain": [
       "            Rendimento Composto Meta  Rendimento Composto Apple\n",
       "Date                                                           \n",
       "2012-05-21                  0.883622                   1.473701\n",
       "2012-05-22                  0.801220                   1.462340\n",
       "2012-05-23                  0.826657                   1.497593\n",
       "2012-05-24                  0.852846                   1.483775\n",
       "2012-05-25                  0.823426                   1.475801\n",
       "...                              ...                        ...\n",
       "2021-11-22                  4.747360                   9.426776\n",
       "2021-11-23                  4.694724                   9.449581\n",
       "2021-11-24                  4.747464                   9.480558\n",
       "2021-11-26                  4.635635                   9.175369\n",
       "2021-11-29                  4.703463                   9.373905\n",
       "\n",
       "[2398 rows x 2 columns]"
      ]
     },
     "execution_count": 123,
     "metadata": {},
     "output_type": "execute_result"
    }
   ],
   "source": [
    "cum_daily_return_meta = (1 + rendimenti_netti_meta).cumprod()\n",
    "rendimenti_df[\"Rendimento Composto Meta\"] = cum_daily_return_meta\n",
    "\n",
    "cum_daily_return_apple = (1 + rendimenti_netti_apple).cumprod()\n",
    "rendimenti_df[\"Rendimento Composto Apple\"] = cum_daily_return_apple\n",
    "rendimenti_df[[\"Rendimento Composto Meta\", \"Rendimento Composto Apple\"]]\n"
   ]
  },
  {
   "cell_type": "code",
   "execution_count": 124,
   "id": "284d78c8",
   "metadata": {},
   "outputs": [
    {
     "data": {
      "image/png": "[encoded data removed]",
      "text/plain": [
       "<Figure size 864x576 with 1 Axes>"
      ]
     },
     "metadata": {},
     "output_type": "display_data"
    }
   ],
   "source": [
    "rendimenti_df[[\"Rendimento Composto Meta\", \"Rendimento Composto Apple\"]].plot(figsize=(12,8))\n",
    "plt.show()"
   ]
  },
  {
   "cell_type": "markdown",
   "id": "c981e26a",
   "metadata": {},
   "source": [
    "____________________________________________________________________________________________________________________________"
   ]
  },
  {
   "cell_type": "markdown",
   "id": "e4eb349d",
   "metadata": {},
   "source": [
    "b. Commentare"
   ]
  },
  {
   "cell_type": "markdown",
   "id": "d6ccaa01",
   "metadata": {},
   "source": [
    "_______________________________________________________________________________________________________________________________"
   ]
  },
  {
   "cell_type": "code",
   "execution_count": 17,
   "id": "221c548e",
   "metadata": {},
   "outputs": [
    {
     "name": "stdout",
     "output_type": "stream",
     "text": [
      "[*********************100%***********************]  1 of 1 completed\n",
      "[*********************100%***********************]  1 of 1 completed\n"
     ]
    },
    {
     "data": {
      "text/html": [
       "<div>\n",
       "<style scoped>\n",
       "    .dataframe tbody tr th:only-of-type {\n",
       "        vertical-align: middle;\n",
       "    }\n",
       "\n",
       "    .dataframe tbody tr th {\n",
       "        vertical-align: top;\n",
       "    }\n",
       "\n",
       "    .dataframe thead th {\n",
       "        text-align: right;\n",
       "    }\n",
       "</style>\n",
       "<table border=\"1\" class=\"dataframe\">\n",
       "  <thead>\n",
       "    <tr style=\"text-align: right;\">\n",
       "      <th></th>\n",
       "      <th>Open_Meta</th>\n",
       "      <th>High_Meta</th>\n",
       "      <th>Low_Meta</th>\n",
       "      <th>Close_Meta</th>\n",
       "      <th>Adj Close_Meta</th>\n",
       "      <th>Volume_Meta</th>\n",
       "      <th>Open_Apple</th>\n",
       "      <th>High_Apple</th>\n",
       "      <th>Low_Apple</th>\n",
       "      <th>Close_Apple</th>\n",
       "      <th>Adj Close_Apple</th>\n",
       "      <th>Volume_Apple</th>\n",
       "    </tr>\n",
       "    <tr>\n",
       "      <th>Date</th>\n",
       "      <th></th>\n",
       "      <th></th>\n",
       "      <th></th>\n",
       "      <th></th>\n",
       "      <th></th>\n",
       "      <th></th>\n",
       "      <th></th>\n",
       "      <th></th>\n",
       "      <th></th>\n",
       "      <th></th>\n",
       "      <th></th>\n",
       "      <th></th>\n",
       "    </tr>\n",
       "  </thead>\n",
       "  <tbody>\n",
       "    <tr>\n",
       "      <th>2012-12-31</th>\n",
       "      <td>24.799613</td>\n",
       "      <td>25.300903</td>\n",
       "      <td>24.195871</td>\n",
       "      <td>24.673097</td>\n",
       "      <td>24.673097</td>\n",
       "      <td>5.464815e+07</td>\n",
       "      <td>21.524984</td>\n",
       "      <td>21.715758</td>\n",
       "      <td>21.271256</td>\n",
       "      <td>21.501701</td>\n",
       "      <td>18.503841</td>\n",
       "      <td>4.923590e+08</td>\n",
       "    </tr>\n",
       "    <tr>\n",
       "      <th>2013-12-31</th>\n",
       "      <td>35.476429</td>\n",
       "      <td>36.045040</td>\n",
       "      <td>34.930159</td>\n",
       "      <td>35.481151</td>\n",
       "      <td>35.481151</td>\n",
       "      <td>6.009199e+07</td>\n",
       "      <td>16.897433</td>\n",
       "      <td>17.058533</td>\n",
       "      <td>16.723111</td>\n",
       "      <td>16.879817</td>\n",
       "      <td>14.799176</td>\n",
       "      <td>4.064348e+08</td>\n",
       "    </tr>\n",
       "    <tr>\n",
       "      <th>2014-12-31</th>\n",
       "      <td>68.763968</td>\n",
       "      <td>69.639524</td>\n",
       "      <td>67.830199</td>\n",
       "      <td>68.762341</td>\n",
       "      <td>68.762341</td>\n",
       "      <td>4.753055e+07</td>\n",
       "      <td>23.054958</td>\n",
       "      <td>23.253166</td>\n",
       "      <td>22.868885</td>\n",
       "      <td>23.066164</td>\n",
       "      <td>20.711915</td>\n",
       "      <td>2.526109e+08</td>\n",
       "    </tr>\n",
       "    <tr>\n",
       "      <th>2015-12-31</th>\n",
       "      <td>88.749405</td>\n",
       "      <td>89.683373</td>\n",
       "      <td>87.762778</td>\n",
       "      <td>88.772857</td>\n",
       "      <td>88.772857</td>\n",
       "      <td>2.695888e+07</td>\n",
       "      <td>30.043938</td>\n",
       "      <td>30.311131</td>\n",
       "      <td>29.715774</td>\n",
       "      <td>30.010000</td>\n",
       "      <td>27.407819</td>\n",
       "      <td>2.073976e+08</td>\n",
       "    </tr>\n",
       "    <tr>\n",
       "      <th>2016-12-31</th>\n",
       "      <td>117.081071</td>\n",
       "      <td>118.091706</td>\n",
       "      <td>115.865873</td>\n",
       "      <td>117.035873</td>\n",
       "      <td>117.035873</td>\n",
       "      <td>2.547507e+07</td>\n",
       "      <td>26.126944</td>\n",
       "      <td>26.356796</td>\n",
       "      <td>25.922569</td>\n",
       "      <td>26.151002</td>\n",
       "      <td>24.378621</td>\n",
       "      <td>1.536901e+08</td>\n",
       "    </tr>\n",
       "  </tbody>\n",
       "</table>\n",
       "</div>"
      ],
      "text/plain": [
       "             Open_Meta   High_Meta    Low_Meta  Close_Meta  Adj Close_Meta  \\\n",
       "Date                                                                         \n",
       "2012-12-31   24.799613   25.300903   24.195871   24.673097       24.673097   \n",
       "2013-12-31   35.476429   36.045040   34.930159   35.481151       35.481151   \n",
       "2014-12-31   68.763968   69.639524   67.830199   68.762341       68.762341   \n",
       "2015-12-31   88.749405   89.683373   87.762778   88.772857       88.772857   \n",
       "2016-12-31  117.081071  118.091706  115.865873  117.035873      117.035873   \n",
       "\n",
       "             Volume_Meta  Open_Apple  High_Apple  Low_Apple  Close_Apple  \\\n",
       "Date                                                                       \n",
       "2012-12-31  5.464815e+07   21.524984   21.715758  21.271256    21.501701   \n",
       "2013-12-31  6.009199e+07   16.897433   17.058533  16.723111    16.879817   \n",
       "2014-12-31  4.753055e+07   23.054958   23.253166  22.868885    23.066164   \n",
       "2015-12-31  2.695888e+07   30.043938   30.311131  29.715774    30.010000   \n",
       "2016-12-31  2.547507e+07   26.126944   26.356796  25.922569    26.151002   \n",
       "\n",
       "            Adj Close_Apple  Volume_Apple  \n",
       "Date                                       \n",
       "2012-12-31        18.503841  4.923590e+08  \n",
       "2013-12-31        14.799176  4.064348e+08  \n",
       "2014-12-31        20.711915  2.526109e+08  \n",
       "2015-12-31        27.407819  2.073976e+08  \n",
       "2016-12-31        24.378621  1.536901e+08  "
      ]
     },
     "execution_count": 17,
     "metadata": {},
     "output_type": "execute_result"
    }
   ],
   "source": [
    "#Tecnologia\n",
    "meta_df = yf.download('FB', start='2011-11-30', end='2021-11-30')\n",
    "apple_df = yf.download('AAPL', start='2011-11-30', end='2021-11-30')\n",
    "apple_meta_df = meta_df.join(apple_df, lsuffix='_Meta', rsuffix='_Apple')\n",
    "apple_meta_df = apple_meta_df.groupby(pd.Grouper(freq='Y')).mean()\n",
    "apple_meta_df.head()"
   ]
  },
  {
   "cell_type": "markdown",
   "id": "dcd53a93",
   "metadata": {},
   "source": [
    "____________________________________________________________________________________________________________________________"
   ]
  },
  {
   "cell_type": "markdown",
   "id": "7c457b9e",
   "metadata": {},
   "source": [
    "Che cosa hanno in comune le serie storiche, ci sono momenti di rendimenti molto lontani dalla media?"
   ]
  },
  {
   "cell_type": "markdown",
   "id": "e5376112",
   "metadata": {},
   "source": [
    "____________________________________________________________________________________________________________________________"
   ]
  },
  {
   "cell_type": "code",
   "execution_count": 18,
   "id": "8fd8e645",
   "metadata": {},
   "outputs": [
    {
     "data": {
      "text/html": [
       "<div>\n",
       "<style scoped>\n",
       "    .dataframe tbody tr th:only-of-type {\n",
       "        vertical-align: middle;\n",
       "    }\n",
       "\n",
       "    .dataframe tbody tr th {\n",
       "        vertical-align: top;\n",
       "    }\n",
       "\n",
       "    .dataframe thead th {\n",
       "        text-align: right;\n",
       "    }\n",
       "</style>\n",
       "<table border=\"1\" class=\"dataframe\">\n",
       "  <thead>\n",
       "    <tr style=\"text-align: right;\">\n",
       "      <th></th>\n",
       "      <th>Adj Close_Meta</th>\n",
       "      <th>Adj Close_Apple</th>\n",
       "    </tr>\n",
       "    <tr>\n",
       "      <th>Date</th>\n",
       "      <th></th>\n",
       "      <th></th>\n",
       "    </tr>\n",
       "  </thead>\n",
       "  <tbody>\n",
       "    <tr>\n",
       "      <th>2012-12-31</th>\n",
       "      <td>24.673097</td>\n",
       "      <td>18.503841</td>\n",
       "    </tr>\n",
       "    <tr>\n",
       "      <th>2013-12-31</th>\n",
       "      <td>35.481151</td>\n",
       "      <td>14.799176</td>\n",
       "    </tr>\n",
       "    <tr>\n",
       "      <th>2014-12-31</th>\n",
       "      <td>68.762341</td>\n",
       "      <td>20.711915</td>\n",
       "    </tr>\n",
       "    <tr>\n",
       "      <th>2015-12-31</th>\n",
       "      <td>88.772857</td>\n",
       "      <td>27.407819</td>\n",
       "    </tr>\n",
       "    <tr>\n",
       "      <th>2016-12-31</th>\n",
       "      <td>117.035873</td>\n",
       "      <td>24.378621</td>\n",
       "    </tr>\n",
       "  </tbody>\n",
       "</table>\n",
       "</div>"
      ],
      "text/plain": [
       "            Adj Close_Meta  Adj Close_Apple\n",
       "Date                                       \n",
       "2012-12-31       24.673097        18.503841\n",
       "2013-12-31       35.481151        14.799176\n",
       "2014-12-31       68.762341        20.711915\n",
       "2015-12-31       88.772857        27.407819\n",
       "2016-12-31      117.035873        24.378621"
      ]
     },
     "execution_count": 18,
     "metadata": {},
     "output_type": "execute_result"
    }
   ],
   "source": [
    "apple_meta_df = apple_meta_df[['Adj Close_Meta', 'Adj Close_Apple']]\n",
    "apple_meta_df.head()"
   ]
  },
  {
   "cell_type": "code",
   "execution_count": 19,
   "id": "25487d7f",
   "metadata": {},
   "outputs": [
    {
     "data": {
      "text/html": [
       "<div>\n",
       "<style scoped>\n",
       "    .dataframe tbody tr th:only-of-type {\n",
       "        vertical-align: middle;\n",
       "    }\n",
       "\n",
       "    .dataframe tbody tr th {\n",
       "        vertical-align: top;\n",
       "    }\n",
       "\n",
       "    .dataframe thead th {\n",
       "        text-align: right;\n",
       "    }\n",
       "</style>\n",
       "<table border=\"1\" class=\"dataframe\">\n",
       "  <thead>\n",
       "    <tr style=\"text-align: right;\">\n",
       "      <th></th>\n",
       "      <th>Adj Close_Meta</th>\n",
       "      <th>Adj Close_Apple</th>\n",
       "    </tr>\n",
       "    <tr>\n",
       "      <th>Date</th>\n",
       "      <th></th>\n",
       "      <th></th>\n",
       "    </tr>\n",
       "  </thead>\n",
       "  <tbody>\n",
       "    <tr>\n",
       "      <th>2013-12-31</th>\n",
       "      <td>0.438050</td>\n",
       "      <td>-0.200211</td>\n",
       "    </tr>\n",
       "    <tr>\n",
       "      <th>2014-12-31</th>\n",
       "      <td>0.937996</td>\n",
       "      <td>0.399532</td>\n",
       "    </tr>\n",
       "    <tr>\n",
       "      <th>2015-12-31</th>\n",
       "      <td>0.291010</td>\n",
       "      <td>0.323288</td>\n",
       "    </tr>\n",
       "    <tr>\n",
       "      <th>2016-12-31</th>\n",
       "      <td>0.318375</td>\n",
       "      <td>-0.110523</td>\n",
       "    </tr>\n",
       "    <tr>\n",
       "      <th>2017-12-31</th>\n",
       "      <td>0.337848</td>\n",
       "      <td>0.466393</td>\n",
       "    </tr>\n",
       "    <tr>\n",
       "      <th>2018-12-31</th>\n",
       "      <td>0.095383</td>\n",
       "      <td>0.274878</td>\n",
       "    </tr>\n",
       "    <tr>\n",
       "      <th>2019-12-31</th>\n",
       "      <td>0.059043</td>\n",
       "      <td>0.118957</td>\n",
       "    </tr>\n",
       "    <tr>\n",
       "      <th>2020-12-31</th>\n",
       "      <td>0.291313</td>\n",
       "      <td>0.852308</td>\n",
       "    </tr>\n",
       "    <tr>\n",
       "      <th>2021-12-31</th>\n",
       "      <td>0.365256</td>\n",
       "      <td>0.453924</td>\n",
       "    </tr>\n",
       "  </tbody>\n",
       "</table>\n",
       "</div>"
      ],
      "text/plain": [
       "            Adj Close_Meta  Adj Close_Apple\n",
       "Date                                       \n",
       "2013-12-31        0.438050        -0.200211\n",
       "2014-12-31        0.937996         0.399532\n",
       "2015-12-31        0.291010         0.323288\n",
       "2016-12-31        0.318375        -0.110523\n",
       "2017-12-31        0.337848         0.466393\n",
       "2018-12-31        0.095383         0.274878\n",
       "2019-12-31        0.059043         0.118957\n",
       "2020-12-31        0.291313         0.852308\n",
       "2021-12-31        0.365256         0.453924"
      ]
     },
     "execution_count": 19,
     "metadata": {},
     "output_type": "execute_result"
    }
   ],
   "source": [
    "apple_meta_returns = apple_meta_df.pct_change()\n",
    "apple_meta_returns = apple_meta_returns.dropna()\n",
    "apple_meta_returns.head(20)"
   ]
  },
  {
   "cell_type": "code",
   "execution_count": 20,
   "id": "957b33ea",
   "metadata": {},
   "outputs": [
    {
     "data": {
      "image/png": "[encoded data removed]",
      "text/plain": [
       "<Figure size 432x288 with 1 Axes>"
      ]
     },
     "metadata": {
      "needs_background": "light"
     },
     "output_type": "display_data"
    }
   ],
   "source": [
    "apple_meta_returns.plot(grid=True, title = 'Simple Logarithm Returns of Meta and Apple index yearly');"
   ]
  },
  {
   "cell_type": "markdown",
   "id": "ec395961",
   "metadata": {},
   "source": [
    "Apple:\n",
    "Nel periodo 2015-2016 c'è stato un decremento di domanda da parte dell'Asia verso i prodotti Apple, questo spiega la consguente perdita con un ritorno semplice atteso che passò da positivo del 32% ad un negativo -11%.\n",
    "\n",
    "(articolo di Fortune scritto nel 2016)\n",
    "Gli analisti avevano ampiamente previsto un simile risultato, in parte perché le vendite di iPhone nei primi tre mesi del 2015 sono state artificialmente aumentate da gravi carenze di approvvigionamento che hanno ritardato le vendite dall'ultimo trimestre del 2014. \n",
    "Un altro fattore è stato il rafforzamento del dollaro USA dal 2015, che ha effettivamente ridotto il valore delle vendite di Apple all'estero di oltre 2 miliardi di dollari, ovvero circa 4%.\n",
    "link articolo: https://fortune.com/2016/05/06/apple-shares-two-year-low/\n",
    "link articolo: https://fortune.com/2016/04/26/apple-future-update-iphone/\n",
    "\n",
    "\n",
    "\n",
    "Nel periodo 2019-2020 da 11% a 85%\n",
    "La crescita esplosiva di AirPods, lo slancio promettente per l'Apple Watch e la promessa di un più grande salto tecnologico e delle funzionalità per la linea di iPhone nel 2020 hanno alimentato un grande anno per le azioni Apple.\n",
    "Toni Sacconaghi, analista di Bernstein Research, stima che le vendite di AirPod siano state di circa 6 miliardi di dollari nel 2019 e siano quasi raddoppiate rispetto al 2018. L'analista di Bernstein prevede che le entrate di AirPod raggiungeranno i 15 miliardi di dollari nel 2020.\n",
    "link articolo: https://www.fool.com/investing/2020/01/12/why-apple-stock-soared-862-in-2019.aspx\n",
    "\n",
    "\n",
    "\n",
    "\n",
    "Facebook/Meta:\n",
    "\n",
    "Nel periodo 2017-2019 il ritorno semplice atteso delle azioni di Facebook passarono da un 34% ad un 0.9% a fine 2019.\n",
    "Dovuto ai seguenti eventi:\n",
    "\n",
    "-Dichiarazione di Mark Zuckemberg:\n",
    "Gli utenti spendono meno tempo sulla sua piattaforma.\n",
    "\n",
    "-Cambridge Analitica: \n",
    "il più grande scandalo nella storia di facebook.\n",
    "Un ricercatore esterno ha raccolto e poi venduto i dati personali di decine di milioni di utenti alla società di analisi che ha aiutato a eleggere il presidente di Donald Trump. \n",
    "La rivelazione ha dato il via a una serie di eventi, tra cui un'indagine formale della Federal Trade Commission sulle pratiche sulla privacy di Facebook che ha portato a una multa di 5 miliardi di dollari un anno dopo.\n",
    "\n",
    "-Earning disaster:\n",
    "La società ha mancato in modo insolito le stime sugli utili per le entrate e la crescita degli utenti, alimentando le preoccupazioni che i suoi scandali avessero finalmente colpito l'azienda. Facebook ha perso 121 miliardi di dollari di valore di mercato in seguito al rapporto.\n",
    "\n",
    "\n",
    "immagine:\n",
    "https://assets.bwbx.io/images/users/iqjWHBFdfxIU/iQ2BOKamCy58/v2/pidjEfPlU1QWZop3vfGKsrX.ke8XuWirGYh1PKgEw44kE/-1x-1.png\n"
   ]
  },
  {
   "cell_type": "markdown",
   "id": "3a7eb2f2",
   "metadata": {},
   "source": [
    "____________________________________________________________________________________________________________________________"
   ]
  },
  {
   "cell_type": "markdown",
   "id": "149e3747",
   "metadata": {},
   "source": [
    "correlazione tra Apple e Meta?"
   ]
  },
  {
   "cell_type": "markdown",
   "id": "2b01b845",
   "metadata": {},
   "source": [
    "____________________________________________________________________________________________________________________________"
   ]
  },
  {
   "cell_type": "code",
   "execution_count": 21,
   "id": "4707201d",
   "metadata": {},
   "outputs": [
    {
     "name": "stdout",
     "output_type": "stream",
     "text": [
      "[*********************100%***********************]  2 of 2 completed\n"
     ]
    },
    {
     "data": {
      "text/html": [
       "<div>\n",
       "<style scoped>\n",
       "    .dataframe tbody tr th:only-of-type {\n",
       "        vertical-align: middle;\n",
       "    }\n",
       "\n",
       "    .dataframe tbody tr th {\n",
       "        vertical-align: top;\n",
       "    }\n",
       "\n",
       "    .dataframe thead th {\n",
       "        text-align: right;\n",
       "    }\n",
       "</style>\n",
       "<table border=\"1\" class=\"dataframe\">\n",
       "  <thead>\n",
       "    <tr style=\"text-align: right;\">\n",
       "      <th></th>\n",
       "      <th>AAPL</th>\n",
       "      <th>FB</th>\n",
       "    </tr>\n",
       "  </thead>\n",
       "  <tbody>\n",
       "    <tr>\n",
       "      <th>AAPL</th>\n",
       "      <td>1.000000</td>\n",
       "      <td>0.402076</td>\n",
       "    </tr>\n",
       "    <tr>\n",
       "      <th>FB</th>\n",
       "      <td>0.402076</td>\n",
       "      <td>1.000000</td>\n",
       "    </tr>\n",
       "  </tbody>\n",
       "</table>\n",
       "</div>"
      ],
      "text/plain": [
       "          AAPL        FB\n",
       "AAPL  1.000000  0.402076\n",
       "FB    0.402076  1.000000"
      ]
     },
     "execution_count": 21,
     "metadata": {},
     "output_type": "execute_result"
    }
   ],
   "source": [
    "import seaborn as sns\n",
    "\n",
    "data_df = yf.download('FB AAPL', start='2011-11-30', end='2021-11-30')\n",
    "data_df = data_df['Adj Close']\n",
    "returns = data_df.pct_change()\n",
    "returns = returns.dropna()\n",
    "correlation = returns.corr()\n",
    "correlation"
   ]
  },
  {
   "cell_type": "code",
   "execution_count": 22,
   "id": "718e59b4",
   "metadata": {},
   "outputs": [
    {
     "data": {
      "text/plain": [
       "<AxesSubplot:>"
      ]
     },
     "execution_count": 22,
     "metadata": {},
     "output_type": "execute_result"
    },
    {
     "data": {
      "image/png": "[encoded data removed]",
      "text/plain": [
       "<Figure size 720x360 with 2 Axes>"
      ]
     },
     "metadata": {},
     "output_type": "display_data"
    }
   ],
   "source": [
    "sns.set(rc ={'figure.figsize' : (10, 5)})\n",
    "sns.heatmap(correlation, annot=True)"
   ]
  },
  {
   "cell_type": "markdown",
   "id": "4d899c32",
   "metadata": {},
   "source": [
    "Possiamo vedere come, seppure esiste una correlazione positiva tra apple e meta, quest'ultima sia molto debole."
   ]
  },
  {
   "cell_type": "markdown",
   "id": "32e5751b",
   "metadata": {},
   "source": [
    "_______________________________________________________________________________________________________________________________"
   ]
  },
  {
   "cell_type": "code",
   "execution_count": 103,
   "id": "10c3a1c7",
   "metadata": {},
   "outputs": [
    {
     "name": "stdout",
     "output_type": "stream",
     "text": [
      "[*********************100%***********************]  1 of 1 completed\n"
     ]
    },
    {
     "data": {
      "text/html": [
       "<div>\n",
       "<style scoped>\n",
       "    .dataframe tbody tr th:only-of-type {\n",
       "        vertical-align: middle;\n",
       "    }\n",
       "\n",
       "    .dataframe tbody tr th {\n",
       "        vertical-align: top;\n",
       "    }\n",
       "\n",
       "    .dataframe thead th {\n",
       "        text-align: right;\n",
       "    }\n",
       "</style>\n",
       "<table border=\"1\" class=\"dataframe\">\n",
       "  <thead>\n",
       "    <tr style=\"text-align: right;\">\n",
       "      <th></th>\n",
       "      <th>Open_Nio</th>\n",
       "      <th>High_Nio</th>\n",
       "      <th>Low_Nio</th>\n",
       "      <th>Close_Nio</th>\n",
       "      <th>Adj Close_Nio</th>\n",
       "      <th>Volume_Nio</th>\n",
       "      <th>Open_Tesla</th>\n",
       "      <th>High_Tesla</th>\n",
       "      <th>Low_Tesla</th>\n",
       "      <th>Close_Tesla</th>\n",
       "      <th>Adj Close_Tesla</th>\n",
       "      <th>Volume_Tesla</th>\n",
       "    </tr>\n",
       "    <tr>\n",
       "      <th>Date</th>\n",
       "      <th></th>\n",
       "      <th></th>\n",
       "      <th></th>\n",
       "      <th></th>\n",
       "      <th></th>\n",
       "      <th></th>\n",
       "      <th></th>\n",
       "      <th></th>\n",
       "      <th></th>\n",
       "      <th></th>\n",
       "      <th></th>\n",
       "      <th></th>\n",
       "    </tr>\n",
       "  </thead>\n",
       "  <tbody>\n",
       "    <tr>\n",
       "      <th>2018-09-30</th>\n",
       "      <td>8.509167</td>\n",
       "      <td>9.350000</td>\n",
       "      <td>7.742500</td>\n",
       "      <td>8.374167</td>\n",
       "      <td>8.374167</td>\n",
       "      <td>5.146636e+07</td>\n",
       "      <td>58.813834</td>\n",
       "      <td>60.280833</td>\n",
       "      <td>57.719833</td>\n",
       "      <td>59.057500</td>\n",
       "      <td>59.057500</td>\n",
       "      <td>4.856771e+07</td>\n",
       "    </tr>\n",
       "    <tr>\n",
       "      <th>2018-10-31</th>\n",
       "      <td>6.922609</td>\n",
       "      <td>7.123913</td>\n",
       "      <td>6.590435</td>\n",
       "      <td>6.802609</td>\n",
       "      <td>6.802609</td>\n",
       "      <td>1.830423e+07</td>\n",
       "      <td>57.285827</td>\n",
       "      <td>58.628261</td>\n",
       "      <td>55.352783</td>\n",
       "      <td>56.998609</td>\n",
       "      <td>56.998609</td>\n",
       "      <td>6.225233e+07</td>\n",
       "    </tr>\n",
       "    <tr>\n",
       "      <th>2018-11-30</th>\n",
       "      <td>7.134286</td>\n",
       "      <td>7.450476</td>\n",
       "      <td>6.910952</td>\n",
       "      <td>7.171429</td>\n",
       "      <td>7.171429</td>\n",
       "      <td>1.993946e+07</td>\n",
       "      <td>68.556858</td>\n",
       "      <td>69.963238</td>\n",
       "      <td>67.524667</td>\n",
       "      <td>68.899047</td>\n",
       "      <td>68.899047</td>\n",
       "      <td>3.167121e+07</td>\n",
       "    </tr>\n",
       "    <tr>\n",
       "      <th>2018-12-31</th>\n",
       "      <td>6.982632</td>\n",
       "      <td>7.147368</td>\n",
       "      <td>6.684211</td>\n",
       "      <td>6.904737</td>\n",
       "      <td>6.904737</td>\n",
       "      <td>1.252072e+07</td>\n",
       "      <td>69.203790</td>\n",
       "      <td>70.568736</td>\n",
       "      <td>67.242947</td>\n",
       "      <td>68.821895</td>\n",
       "      <td>68.821895</td>\n",
       "      <td>3.853979e+07</td>\n",
       "    </tr>\n",
       "    <tr>\n",
       "      <th>2019-01-31</th>\n",
       "      <td>6.602381</td>\n",
       "      <td>6.809048</td>\n",
       "      <td>6.493810</td>\n",
       "      <td>6.692381</td>\n",
       "      <td>6.692381</td>\n",
       "      <td>1.073931e+07</td>\n",
       "      <td>63.338190</td>\n",
       "      <td>64.702762</td>\n",
       "      <td>62.091905</td>\n",
       "      <td>63.698857</td>\n",
       "      <td>63.698857</td>\n",
       "      <td>4.182193e+07</td>\n",
       "    </tr>\n",
       "  </tbody>\n",
       "</table>\n",
       "</div>"
      ],
      "text/plain": [
       "            Open_Nio  High_Nio   Low_Nio  Close_Nio  Adj Close_Nio  \\\n",
       "Date                                                                 \n",
       "2018-09-30  8.509167  9.350000  7.742500   8.374167       8.374167   \n",
       "2018-10-31  6.922609  7.123913  6.590435   6.802609       6.802609   \n",
       "2018-11-30  7.134286  7.450476  6.910952   7.171429       7.171429   \n",
       "2018-12-31  6.982632  7.147368  6.684211   6.904737       6.904737   \n",
       "2019-01-31  6.602381  6.809048  6.493810   6.692381       6.692381   \n",
       "\n",
       "              Volume_Nio  Open_Tesla  High_Tesla  Low_Tesla  Close_Tesla  \\\n",
       "Date                                                                       \n",
       "2018-09-30  5.146636e+07   58.813834   60.280833  57.719833    59.057500   \n",
       "2018-10-31  1.830423e+07   57.285827   58.628261  55.352783    56.998609   \n",
       "2018-11-30  1.993946e+07   68.556858   69.963238  67.524667    68.899047   \n",
       "2018-12-31  1.252072e+07   69.203790   70.568736  67.242947    68.821895   \n",
       "2019-01-31  1.073931e+07   63.338190   64.702762  62.091905    63.698857   \n",
       "\n",
       "            Adj Close_Tesla  Volume_Tesla  \n",
       "Date                                       \n",
       "2018-09-30        59.057500  4.856771e+07  \n",
       "2018-10-31        56.998609  6.225233e+07  \n",
       "2018-11-30        68.899047  3.167121e+07  \n",
       "2018-12-31        68.821895  3.853979e+07  \n",
       "2019-01-31        63.698857  4.182193e+07  "
      ]
     },
     "execution_count": 103,
     "metadata": {},
     "output_type": "execute_result"
    }
   ],
   "source": [
    "#Automobili\n",
    "import csv\n",
    "import pandas as pd\n",
    "import yfinance as yf\n",
    "\n",
    "nio_df = pd.read_csv('NIO.csv', header=0, index_col='Date', parse_dates=True)\n",
    "tesla_df = yf.download('TSLA', start='2018-09-13', end='2021-11-30')\n",
    "nio_tesla_df = nio_df.join(tesla_df, lsuffix='_Nio', rsuffix='_Tesla')\n",
    "nio_tesla_df = nio_tesla_df.groupby(pd.Grouper(freq='M')).mean()\n",
    "nio_tesla_df.head()"
   ]
  },
  {
   "cell_type": "code",
   "execution_count": 104,
   "id": "f97b81ab",
   "metadata": {},
   "outputs": [
    {
     "data": {
      "text/html": [
       "<div>\n",
       "<style scoped>\n",
       "    .dataframe tbody tr th:only-of-type {\n",
       "        vertical-align: middle;\n",
       "    }\n",
       "\n",
       "    .dataframe tbody tr th {\n",
       "        vertical-align: top;\n",
       "    }\n",
       "\n",
       "    .dataframe thead th {\n",
       "        text-align: right;\n",
       "    }\n",
       "</style>\n",
       "<table border=\"1\" class=\"dataframe\">\n",
       "  <thead>\n",
       "    <tr style=\"text-align: right;\">\n",
       "      <th></th>\n",
       "      <th>Adj Close_Nio</th>\n",
       "      <th>Adj Close_Tesla</th>\n",
       "    </tr>\n",
       "    <tr>\n",
       "      <th>Date</th>\n",
       "      <th></th>\n",
       "      <th></th>\n",
       "    </tr>\n",
       "  </thead>\n",
       "  <tbody>\n",
       "    <tr>\n",
       "      <th>2018-09-30</th>\n",
       "      <td>8.374167</td>\n",
       "      <td>59.057500</td>\n",
       "    </tr>\n",
       "    <tr>\n",
       "      <th>2018-10-31</th>\n",
       "      <td>6.802609</td>\n",
       "      <td>56.998609</td>\n",
       "    </tr>\n",
       "    <tr>\n",
       "      <th>2018-11-30</th>\n",
       "      <td>7.171429</td>\n",
       "      <td>68.899047</td>\n",
       "    </tr>\n",
       "    <tr>\n",
       "      <th>2018-12-31</th>\n",
       "      <td>6.904737</td>\n",
       "      <td>68.821895</td>\n",
       "    </tr>\n",
       "    <tr>\n",
       "      <th>2019-01-31</th>\n",
       "      <td>6.692381</td>\n",
       "      <td>63.698857</td>\n",
       "    </tr>\n",
       "  </tbody>\n",
       "</table>\n",
       "</div>"
      ],
      "text/plain": [
       "            Adj Close_Nio  Adj Close_Tesla\n",
       "Date                                      \n",
       "2018-09-30       8.374167        59.057500\n",
       "2018-10-31       6.802609        56.998609\n",
       "2018-11-30       7.171429        68.899047\n",
       "2018-12-31       6.904737        68.821895\n",
       "2019-01-31       6.692381        63.698857"
      ]
     },
     "execution_count": 104,
     "metadata": {},
     "output_type": "execute_result"
    }
   ],
   "source": [
    "nio_tesla_df = nio_tesla_df[['Adj Close_Nio', 'Adj Close_Tesla']]\n",
    "nio_tesla_df.head()"
   ]
  },
  {
   "cell_type": "markdown",
   "id": "ae506007",
   "metadata": {},
   "source": [
    "_______________________________________________________________________________________________________"
   ]
  },
  {
   "cell_type": "markdown",
   "id": "0411db9e",
   "metadata": {},
   "source": [
    "2. Statistiche Descrittive"
   ]
  },
  {
   "cell_type": "markdown",
   "id": "d05944bc",
   "metadata": {},
   "source": [
    "_______________________________________________________________________________________________________"
   ]
  },
  {
   "cell_type": "markdown",
   "id": "7cfbaaba",
   "metadata": {},
   "source": [
    "a. Calcolare i rendimenti semplici e composti e visualizzarli in un grafico"
   ]
  },
  {
   "cell_type": "code",
   "execution_count": 140,
   "id": "785eba4b",
   "metadata": {},
   "outputs": [
    {
     "data": {
      "text/html": [
       "<div>\n",
       "<style scoped>\n",
       "    .dataframe tbody tr th:only-of-type {\n",
       "        vertical-align: middle;\n",
       "    }\n",
       "\n",
       "    .dataframe tbody tr th {\n",
       "        vertical-align: top;\n",
       "    }\n",
       "\n",
       "    .dataframe thead th {\n",
       "        text-align: right;\n",
       "    }\n",
       "</style>\n",
       "<table border=\"1\" class=\"dataframe\">\n",
       "  <thead>\n",
       "    <tr style=\"text-align: right;\">\n",
       "      <th></th>\n",
       "      <th>Rendimenti Netti Tesla</th>\n",
       "      <th>Rendimenti Lordi Tesla</th>\n",
       "      <th>Rendimenti Netti Nio</th>\n",
       "      <th>Rendimenti Lordi Nio</th>\n",
       "    </tr>\n",
       "    <tr>\n",
       "      <th>Date</th>\n",
       "      <th></th>\n",
       "      <th></th>\n",
       "      <th></th>\n",
       "      <th></th>\n",
       "    </tr>\n",
       "  </thead>\n",
       "  <tbody>\n",
       "    <tr>\n",
       "      <th>2018-09-14</th>\n",
       "      <td>0.019636</td>\n",
       "      <td>0.019446</td>\n",
       "      <td>-0.158470</td>\n",
       "      <td>-0.172534</td>\n",
       "    </tr>\n",
       "    <tr>\n",
       "      <th>2018-09-17</th>\n",
       "      <td>-0.001220</td>\n",
       "      <td>-0.001221</td>\n",
       "      <td>-0.152469</td>\n",
       "      <td>-0.165427</td>\n",
       "    </tr>\n",
       "    <tr>\n",
       "      <th>2018-09-18</th>\n",
       "      <td>-0.034084</td>\n",
       "      <td>-0.034678</td>\n",
       "      <td>-0.101447</td>\n",
       "      <td>-0.106969</td>\n",
       "    </tr>\n",
       "    <tr>\n",
       "      <th>2018-09-19</th>\n",
       "      <td>0.048162</td>\n",
       "      <td>0.047038</td>\n",
       "      <td>0.101447</td>\n",
       "      <td>0.096624</td>\n",
       "    </tr>\n",
       "    <tr>\n",
       "      <th>2018-09-20</th>\n",
       "      <td>-0.002310</td>\n",
       "      <td>-0.002313</td>\n",
       "      <td>0.032410</td>\n",
       "      <td>0.031896</td>\n",
       "    </tr>\n",
       "    <tr>\n",
       "      <th>...</th>\n",
       "      <td>...</td>\n",
       "      <td>...</td>\n",
       "      <td>...</td>\n",
       "      <td>...</td>\n",
       "    </tr>\n",
       "    <tr>\n",
       "      <th>2021-11-22</th>\n",
       "      <td>0.017272</td>\n",
       "      <td>0.017125</td>\n",
       "      <td>0.070647</td>\n",
       "      <td>0.068263</td>\n",
       "    </tr>\n",
       "    <tr>\n",
       "      <th>2021-11-23</th>\n",
       "      <td>-0.042232</td>\n",
       "      <td>-0.043150</td>\n",
       "      <td>0.013169</td>\n",
       "      <td>0.013083</td>\n",
       "    </tr>\n",
       "    <tr>\n",
       "      <th>2021-11-24</th>\n",
       "      <td>0.006265</td>\n",
       "      <td>0.006246</td>\n",
       "      <td>-0.014858</td>\n",
       "      <td>-0.014969</td>\n",
       "    </tr>\n",
       "    <tr>\n",
       "      <th>2021-11-26</th>\n",
       "      <td>-0.031014</td>\n",
       "      <td>-0.031505</td>\n",
       "      <td>-0.035134</td>\n",
       "      <td>-0.035766</td>\n",
       "    </tr>\n",
       "    <tr>\n",
       "      <th>2021-11-29</th>\n",
       "      <td>0.049647</td>\n",
       "      <td>0.048454</td>\n",
       "      <td>0.011684</td>\n",
       "      <td>0.011617</td>\n",
       "    </tr>\n",
       "  </tbody>\n",
       "</table>\n",
       "<p>808 rows × 4 columns</p>\n",
       "</div>"
      ],
      "text/plain": [
       "            Rendimenti Netti Tesla  Rendimenti Lordi Tesla  \\\n",
       "Date                                                         \n",
       "2018-09-14                0.019636                0.019446   \n",
       "2018-09-17               -0.001220               -0.001221   \n",
       "2018-09-18               -0.034084               -0.034678   \n",
       "2018-09-19                0.048162                0.047038   \n",
       "2018-09-20               -0.002310               -0.002313   \n",
       "...                            ...                     ...   \n",
       "2021-11-22                0.017272                0.017125   \n",
       "2021-11-23               -0.042232               -0.043150   \n",
       "2021-11-24                0.006265                0.006246   \n",
       "2021-11-26               -0.031014               -0.031505   \n",
       "2021-11-29                0.049647                0.048454   \n",
       "\n",
       "            Rendimenti Netti Nio  Rendimenti Lordi Nio  \n",
       "Date                                                    \n",
       "2018-09-14             -0.158470             -0.172534  \n",
       "2018-09-17             -0.152469             -0.165427  \n",
       "2018-09-18             -0.101447             -0.106969  \n",
       "2018-09-19              0.101447              0.096624  \n",
       "2018-09-20              0.032410              0.031896  \n",
       "...                          ...                   ...  \n",
       "2021-11-22              0.070647              0.068263  \n",
       "2021-11-23              0.013169              0.013083  \n",
       "2021-11-24             -0.014858             -0.014969  \n",
       "2021-11-26             -0.035134             -0.035766  \n",
       "2021-11-29              0.011684              0.011617  \n",
       "\n",
       "[808 rows x 4 columns]"
      ]
     },
     "execution_count": 140,
     "metadata": {},
     "output_type": "execute_result"
    }
   ],
   "source": [
    "import numpy as np\n",
    "import matplotlib.pyplot as plt\n",
    "\n",
    "#Tecnologia\n",
    "rendimenti_df = pd.DataFrame()\n",
    "tesla_df = tesla_df[['Adj Close']]\n",
    "nio_df = nio_df[['Adj Close']]\n",
    "\n",
    "rendimenti_netti_tesla = np.log(tesla_df/tesla_df.shift(1))\n",
    "rendimenti_lordi_tesla = np.log(rendimenti_netti_tesla + 1)\n",
    "\n",
    "rendimenti_netti_nio = np.log(nio_df/nio_df.shift(1))\n",
    "rendimenti_lordi_nio = np.log(rendimenti_netti_nio + 1)\n",
    "\n",
    "rendimenti_df[\"Rendimenti Netti Tesla\"] = rendimenti_netti_tesla\n",
    "rendimenti_df[\"Rendimenti Lordi Tesla\"] = rendimenti_lordi_tesla\n",
    "rendimenti_df[\"Rendimenti Netti Nio\"] = rendimenti_netti_nio\n",
    "rendimenti_df[\"Rendimenti Lordi Nio\"] = rendimenti_lordi_nio\n",
    "rendimenti_df = rendimenti_df.dropna()\n",
    "rendimenti_df"
   ]
  },
  {
   "cell_type": "code",
   "execution_count": 138,
   "id": "65069a78",
   "metadata": {},
   "outputs": [
    {
     "data": {
      "image/png": "[encoded data removed]",
      "text/plain": [
       "<Figure size 864x576 with 1 Axes>"
      ]
     },
     "metadata": {},
     "output_type": "display_data"
    }
   ],
   "source": [
    "rendimenti_df[[\"Rendimenti Netti Tesla\"]].plot(figsize=(12,8))\n",
    "plt.show()"
   ]
  },
  {
   "cell_type": "code",
   "execution_count": 139,
   "id": "9d6be135",
   "metadata": {},
   "outputs": [
    {
     "data": {
      "image/png": "[encoded data removed]",
      "text/plain": [
       "<Figure size 864x576 with 1 Axes>"
      ]
     },
     "metadata": {},
     "output_type": "display_data"
    }
   ],
   "source": [
    "rendimenti_df[[\"Rendimenti Netti Nio\"]].plot(figsize=(12,8))\n",
    "plt.show()"
   ]
  },
  {
   "cell_type": "markdown",
   "id": "92e8e0e0",
   "metadata": {},
   "source": [
    "_______________________________________________________________________________________________________"
   ]
  },
  {
   "cell_type": "markdown",
   "id": "54ab1365",
   "metadata": {},
   "source": [
    "Rendimenti Composti"
   ]
  },
  {
   "cell_type": "markdown",
   "id": "d893ff4e",
   "metadata": {},
   "source": [
    "_______________________________________________________________________________________________________"
   ]
  },
  {
   "cell_type": "code",
   "execution_count": null,
   "id": "b5c07fba",
   "metadata": {},
   "outputs": [],
   "source": []
  },
  {
   "cell_type": "code",
   "execution_count": null,
   "id": "5e4952e5",
   "metadata": {},
   "outputs": [],
   "source": []
  },
  {
   "cell_type": "code",
   "execution_count": null,
   "id": "7faf55fa",
   "metadata": {},
   "outputs": [],
   "source": []
  },
  {
   "cell_type": "code",
   "execution_count": null,
   "id": "c8f5f3a9",
   "metadata": {},
   "outputs": [],
   "source": []
  },
  {
   "cell_type": "code",
   "execution_count": null,
   "id": "6b1a4513",
   "metadata": {},
   "outputs": [],
   "source": []
  },
  {
   "cell_type": "code",
   "execution_count": null,
   "id": "2f5dc7c3",
   "metadata": {},
   "outputs": [],
   "source": []
  },
  {
   "cell_type": "code",
   "execution_count": null,
   "id": "105ae9c5",
   "metadata": {},
   "outputs": [],
   "source": []
  },
  {
   "cell_type": "code",
   "execution_count": null,
   "id": "0ae36956",
   "metadata": {},
   "outputs": [],
   "source": []
  },
  {
   "cell_type": "code",
   "execution_count": null,
   "id": "a9060670",
   "metadata": {},
   "outputs": [],
   "source": []
  },
  {
   "cell_type": "code",
   "execution_count": null,
   "id": "a2480f77",
   "metadata": {},
   "outputs": [],
   "source": []
  },
  {
   "cell_type": "code",
   "execution_count": null,
   "id": "0af03dae",
   "metadata": {},
   "outputs": [],
   "source": []
  },
  {
   "cell_type": "code",
   "execution_count": null,
   "id": "aa463f78",
   "metadata": {},
   "outputs": [],
   "source": []
  },
  {
   "cell_type": "code",
   "execution_count": null,
   "id": "329043d3",
   "metadata": {},
   "outputs": [],
   "source": []
  },
  {
   "cell_type": "code",
   "execution_count": null,
   "id": "9207e2de",
   "metadata": {},
   "outputs": [],
   "source": []
  }
 ],
 "metadata": {
  "kernelspec": {
   "display_name": "Python 3 (ipykernel)",
   "language": "python",
   "name": "python3"
  },
  "language_info": {
   "codemirror_mode": {
    "name": "ipython",
    "version": 3
   },
   "file_extension": ".py",
   "mimetype": "text/x-python",
   "name": "python",
   "nbconvert_exporter": "python",
   "pygments_lexer": "ipython3",
   "version": "3.9.7"
  }
 },
 "nbformat": 4,
 "nbformat_minor": 5
}
