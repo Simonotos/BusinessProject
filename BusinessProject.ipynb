{
 "cells": [
  {
   "cell_type": "markdown",
   "id": "24fbb0ca",
   "metadata": {},
   "source": [
    "1. Sommario dei dati utilizzati"
   ]
  },
  {
   "cell_type": "markdown",
   "id": "d354eaaa",
   "metadata": {},
   "source": [
    "a. Breve descrizione di ciascun titolo selezionato e motivazione della scelta"
   ]
  },
  {
   "cell_type": "markdown",
   "id": "b20b9fe1",
   "metadata": {},
   "source": [
    "Settori: automobili, tecnologia e medicina\n",
    "\n",
    "notizie che ritengo rilevanti al fine di generare una crescita di interesse verso l'azienda \"nome_azienda\":\n",
    "\n",
    "nome_azienda = \"TESLA\"\n",
    "1. Partorisce in una Tesla mentre l'autopilot la porta in ospedale\n",
    "link notizia: https://www.corriere.it/motori/news/nuova-mobilita/21_dicembre_21/partorisce-traffico-una-tesla-l-autopilot-impostato-l-ospedale-97648fd6-6239-11ec-a583-0974d17fd3de.shtml\n",
    "\n",
    "2. Nuovamente premiata la sicurezza Tesla: pieni voti ai crash test della model Y 2022\n",
    "link notizia: https://www.automoto.it/elettrico/nuovamente-premiata-la-sicurezza-tesla-pieni-voti-ai-crash-test-della-model-y-2022-video.html\n",
    "\n",
    "\n",
    "nome_azienda = \"NIO\":\n",
    "1. NIO, la nuova ET5 minaccia Tesla Model 3? secondo i media locali, il nuovo veicolo ha fatto registrare un livello record di pre-ordini\n",
    "https://it.investing.com/news/stock-market-news/nio-la-nuova-et5-minaccia-tesla-model-3-2032890\n",
    "\n",
    "\n",
    "nome_azienda = \"META PLATFORMS\"\n",
    "1. L'annuncio della posizione/mission che Facebook vuole adottare nel futuro verso il metaverso ha suscitato un enorme interesse verso di essa. Soprattutto la nascita di esperienze legate al metaverso e al mondo NFT come The Sandbox e la partecipazione in quest'ultimo da parte di grandi aziende fa capire la direzione che assuemerà la tecnologia e l'economia del futuro. Più che futuro è un cambiamento che sta avvenendo già adesso.\n",
    "link presentazione meta: https://www.youtube.com/watch?v=Uvufun6xer8&t=4086s\n",
    "link the sandbox: https://www.everyeye.it/articoli/provato-the-sandbox-prova-primi-passi-metaverso-55547.html\n",
    "\n",
    "\n",
    "nome_azienda = \"APPLE\"\n",
    "1. Apple è sul punto di superare una capitalizzazione di mercato di 3000 miliardi di dollari, diventando potenzialmente la prima azienda al mondo a riuscirci\n",
    "link notizia: https://it.investing.com/news/stock-market-news/target-price-su-apple-nuovo-massimo-da-wall-street-2031992\n",
    "\n",
    "\n",
    "nome_azienda = \"NOVAVAX\"\n",
    "1.  le azioni Novavax Inc (NASDAQ:NVAX) hanno avuto un rialzo dopo che la società ha annunciato che l'Agenzia europea per i medicinali ha raccomandato la concessione dell'autorizzazione all'immissione in commercio condizionata per il suo vaccino anti-Covid, NVX-CoV2373, al fine di prevenire il COVID-19 nelle persone di età pari o superiore a 18 anni.\n",
    "link notizia: https://it.investing.com/news/stock-market-news/novavax-perche-il-titolo-e-in-aumento-oggi-2032994\n",
    "\n",
    "\n",
    "nome_azienda = \"VIATRIS\"\n",
    "1. Viatris Inc. una nuova azienda con la mission della global healthcare è stata aggiunta alla lista degli America's most Responsible Companies 2022. Premio riconosciuto da Newsweek e Statista Inc., il miglior portale al mondo di statistica e ranking aziendali. La lista a cui è stata aggiunta, riconosce le top 500 responsible companies negli Stati Uniti. Si sono classificati 167 esimi e nella Top 20 nella categoria Health Care & Life Sciences.\n",
    "link notizia: https://www.prnewswire.com/news-releases/viatris-named-by-newsweek-as-one-of-americas-most-responsible-companies-301437781.html\n",
    "\n"
   ]
  },
  {
   "cell_type": "markdown",
   "id": "2b62c83a",
   "metadata": {},
   "source": [
    "_______________________________________________________________________________________________________________________"
   ]
  },
  {
   "cell_type": "code",
   "execution_count": 18,
   "id": "4d34a126",
   "metadata": {},
   "outputs": [
    {
     "name": "stdout",
     "output_type": "stream",
     "text": [
      "Requirement already satisfied: yfinance in d:\\anacondapython\\lib\\site-packages (0.1.67)\n",
      "Requirement already satisfied: pandas>=0.24 in d:\\anacondapython\\lib\\site-packages (from yfinance) (1.3.4)\n",
      "Requirement already satisfied: multitasking>=0.0.7 in d:\\anacondapython\\lib\\site-packages (from yfinance) (0.0.10)\n",
      "Requirement already satisfied: lxml>=4.5.1 in d:\\anacondapython\\lib\\site-packages (from yfinance) (4.6.3)\n",
      "Requirement already satisfied: requests>=2.20 in d:\\anacondapython\\lib\\site-packages (from yfinance) (2.26.0)\n",
      "Requirement already satisfied: numpy>=1.15 in d:\\anacondapython\\lib\\site-packages (from yfinance) (1.20.3)\n",
      "Requirement already satisfied: python-dateutil>=2.7.3 in d:\\anacondapython\\lib\\site-packages (from pandas>=0.24->yfinance) (2.8.2)\n",
      "Requirement already satisfied: pytz>=2017.3 in d:\\anacondapython\\lib\\site-packages (from pandas>=0.24->yfinance) (2021.3)\n",
      "Requirement already satisfied: six>=1.5 in d:\\anacondapython\\lib\\site-packages (from python-dateutil>=2.7.3->pandas>=0.24->yfinance) (1.16.0)\n",
      "Requirement already satisfied: charset-normalizer~=2.0.0 in d:\\anacondapython\\lib\\site-packages (from requests>=2.20->yfinance) (2.0.4)\n",
      "Requirement already satisfied: idna<4,>=2.5 in d:\\anacondapython\\lib\\site-packages (from requests>=2.20->yfinance) (3.2)\n",
      "Requirement already satisfied: certifi>=2017.4.17 in d:\\anacondapython\\lib\\site-packages (from requests>=2.20->yfinance) (2021.10.8)\n",
      "Requirement already satisfied: urllib3<1.27,>=1.21.1 in d:\\anacondapython\\lib\\site-packages (from requests>=2.20->yfinance) (1.26.7)\n"
     ]
    }
   ],
   "source": [
    "# Install a pip package in the current Jupyter kernel\n",
    "import sys\n",
    "!{sys.executable} -m pip install yfinance"
   ]
  },
  {
   "cell_type": "markdown",
   "id": "917668e5",
   "metadata": {},
   "source": [
    "b. Funzioni utilizzate per scaricare i dati da Yahoo! Finance o da altri siti"
   ]
  },
  {
   "cell_type": "code",
   "execution_count": 25,
   "id": "86029cc8",
   "metadata": {},
   "outputs": [
    {
     "name": "stdout",
     "output_type": "stream",
     "text": [
      "[*********************100%***********************]  1 of 1 completed\n",
      "[*********************100%***********************]  1 of 1 completed\n"
     ]
    }
   ],
   "source": [
    "import pandas as pd\n",
    "import yfinance as yf\n",
    "\n",
    "meta_df = yf.download('FB', start='2011-11-30', end='2021-11-30')\n",
    "apple_df = yf.download('AAPL', start='2011-11-30', end='2021-11-30')"
   ]
  },
  {
   "cell_type": "markdown",
   "id": "d7bb8141",
   "metadata": {},
   "source": [
    "c. Funzioni utilizzate per la fusione delle serie in un unico DataFrame\n",
    "\n",
    "d. Presentazione dei dati con un grafico e le prime righe del DataFrame"
   ]
  },
  {
   "cell_type": "code",
   "execution_count": 32,
   "id": "b8dfb157",
   "metadata": {},
   "outputs": [
    {
     "data": {
      "text/html": [
       "<div>\n",
       "<style scoped>\n",
       "    .dataframe tbody tr th:only-of-type {\n",
       "        vertical-align: middle;\n",
       "    }\n",
       "\n",
       "    .dataframe tbody tr th {\n",
       "        vertical-align: top;\n",
       "    }\n",
       "\n",
       "    .dataframe thead th {\n",
       "        text-align: right;\n",
       "    }\n",
       "</style>\n",
       "<table border=\"1\" class=\"dataframe\">\n",
       "  <thead>\n",
       "    <tr style=\"text-align: right;\">\n",
       "      <th></th>\n",
       "      <th>Open_Meta</th>\n",
       "      <th>High_Meta</th>\n",
       "      <th>Low_Meta</th>\n",
       "      <th>Close_Meta</th>\n",
       "      <th>Adj Close_Meta</th>\n",
       "      <th>Volume_Meta</th>\n",
       "      <th>Open_Apple</th>\n",
       "      <th>High_Apple</th>\n",
       "      <th>Low_Apple</th>\n",
       "      <th>Close_Apple</th>\n",
       "      <th>Adj Close_Apple</th>\n",
       "      <th>Volume_Apple</th>\n",
       "    </tr>\n",
       "    <tr>\n",
       "      <th>Date</th>\n",
       "      <th></th>\n",
       "      <th></th>\n",
       "      <th></th>\n",
       "      <th></th>\n",
       "      <th></th>\n",
       "      <th></th>\n",
       "      <th></th>\n",
       "      <th></th>\n",
       "      <th></th>\n",
       "      <th></th>\n",
       "      <th></th>\n",
       "      <th></th>\n",
       "    </tr>\n",
       "  </thead>\n",
       "  <tbody>\n",
       "    <tr>\n",
       "      <th>2012-05-18</th>\n",
       "      <td>42.049999</td>\n",
       "      <td>45.000000</td>\n",
       "      <td>38.000000</td>\n",
       "      <td>38.230000</td>\n",
       "      <td>38.230000</td>\n",
       "      <td>573576400</td>\n",
       "      <td>19.070000</td>\n",
       "      <td>19.407499</td>\n",
       "      <td>18.649286</td>\n",
       "      <td>18.942142</td>\n",
       "      <td>16.240334</td>\n",
       "      <td>732292400</td>\n",
       "    </tr>\n",
       "    <tr>\n",
       "      <th>2012-05-21</th>\n",
       "      <td>36.529999</td>\n",
       "      <td>36.660000</td>\n",
       "      <td>33.000000</td>\n",
       "      <td>34.029999</td>\n",
       "      <td>34.029999</td>\n",
       "      <td>168192700</td>\n",
       "      <td>19.089287</td>\n",
       "      <td>20.055000</td>\n",
       "      <td>19.073214</td>\n",
       "      <td>20.045713</td>\n",
       "      <td>17.186493</td>\n",
       "      <td>631106000</td>\n",
       "    </tr>\n",
       "    <tr>\n",
       "      <th>2012-05-22</th>\n",
       "      <td>32.610001</td>\n",
       "      <td>33.590000</td>\n",
       "      <td>30.940001</td>\n",
       "      <td>31.000000</td>\n",
       "      <td>31.000000</td>\n",
       "      <td>101786600</td>\n",
       "      <td>20.341070</td>\n",
       "      <td>20.495714</td>\n",
       "      <td>19.735001</td>\n",
       "      <td>19.891787</td>\n",
       "      <td>17.054525</td>\n",
       "      <td>694870400</td>\n",
       "    </tr>\n",
       "    <tr>\n",
       "      <th>2012-05-23</th>\n",
       "      <td>31.370001</td>\n",
       "      <td>32.500000</td>\n",
       "      <td>31.360001</td>\n",
       "      <td>32.000000</td>\n",
       "      <td>32.000000</td>\n",
       "      <td>73600000</td>\n",
       "      <td>19.910713</td>\n",
       "      <td>20.457144</td>\n",
       "      <td>19.758215</td>\n",
       "      <td>20.377144</td>\n",
       "      <td>17.470650</td>\n",
       "      <td>584897600</td>\n",
       "    </tr>\n",
       "    <tr>\n",
       "      <th>2012-05-24</th>\n",
       "      <td>32.950001</td>\n",
       "      <td>33.209999</td>\n",
       "      <td>31.770000</td>\n",
       "      <td>33.029999</td>\n",
       "      <td>33.029999</td>\n",
       "      <td>50237200</td>\n",
       "      <td>20.566786</td>\n",
       "      <td>20.589287</td>\n",
       "      <td>20.043928</td>\n",
       "      <td>20.190001</td>\n",
       "      <td>17.310205</td>\n",
       "      <td>496230000</td>\n",
       "    </tr>\n",
       "  </tbody>\n",
       "</table>\n",
       "</div>"
      ],
      "text/plain": [
       "            Open_Meta  High_Meta   Low_Meta  Close_Meta  Adj Close_Meta  \\\n",
       "Date                                                                      \n",
       "2012-05-18  42.049999  45.000000  38.000000   38.230000       38.230000   \n",
       "2012-05-21  36.529999  36.660000  33.000000   34.029999       34.029999   \n",
       "2012-05-22  32.610001  33.590000  30.940001   31.000000       31.000000   \n",
       "2012-05-23  31.370001  32.500000  31.360001   32.000000       32.000000   \n",
       "2012-05-24  32.950001  33.209999  31.770000   33.029999       33.029999   \n",
       "\n",
       "            Volume_Meta  Open_Apple  High_Apple  Low_Apple  Close_Apple  \\\n",
       "Date                                                                      \n",
       "2012-05-18    573576400   19.070000   19.407499  18.649286    18.942142   \n",
       "2012-05-21    168192700   19.089287   20.055000  19.073214    20.045713   \n",
       "2012-05-22    101786600   20.341070   20.495714  19.735001    19.891787   \n",
       "2012-05-23     73600000   19.910713   20.457144  19.758215    20.377144   \n",
       "2012-05-24     50237200   20.566786   20.589287  20.043928    20.190001   \n",
       "\n",
       "            Adj Close_Apple  Volume_Apple  \n",
       "Date                                       \n",
       "2012-05-18        16.240334     732292400  \n",
       "2012-05-21        17.186493     631106000  \n",
       "2012-05-22        17.054525     694870400  \n",
       "2012-05-23        17.470650     584897600  \n",
       "2012-05-24        17.310205     496230000  "
      ]
     },
     "execution_count": 32,
     "metadata": {},
     "output_type": "execute_result"
    }
   ],
   "source": [
    "meta_apple = meta_df.join(apple_df, lsuffix=\"_Meta\", rsuffix=\"_Apple\")\n",
    "meta_apple.head()"
   ]
  },
  {
   "cell_type": "markdown",
   "id": "103e314f",
   "metadata": {},
   "source": [
    "_______________________________________________________________________________________________________________________"
   ]
  },
  {
   "cell_type": "code",
   "execution_count": 33,
   "id": "8b337b7f",
   "metadata": {
    "scrolled": true
   },
   "outputs": [
    {
     "data": {
      "image/png": "[encoded data removed]",
      "text/plain": [
       "<Figure size 432x288 with 1 Axes>"
      ]
     },
     "metadata": {
      "needs_background": "light"
     },
     "output_type": "display_data"
    }
   ],
   "source": [
    "import matplotlib.pyplot as plt\n",
    "meta_apple = meta_apple[[\"Adj Close_Meta\", \"Adj Close_Apple\"]]\n",
    "meta_apple.plot(grid = True)\n",
    "plt.grid()\n",
    "plt.show()"
   ]
  },
  {
   "cell_type": "markdown",
   "id": "d1e89843",
   "metadata": {},
   "source": [
    "_______________________________________________________________________________________________________________________"
   ]
  },
  {
   "cell_type": "markdown",
   "id": "00cd8089",
   "metadata": {},
   "source": [
    "Chiusura: Chiaramente le stesse librerie vengono utilizzate per tutte le aziende prese in considerazioni. Ciò che ho riportato sopra è un esempio di applicazione di utilizzo."
   ]
  },
  {
   "cell_type": "markdown",
   "id": "d38b4320",
   "metadata": {},
   "source": [
    "_______________________________________________________________________________________________________________________________"
   ]
  },
  {
   "cell_type": "markdown",
   "id": "927acd33",
   "metadata": {},
   "source": [
    "2. Statistiche Descrittive"
   ]
  },
  {
   "cell_type": "markdown",
   "id": "96f9ffc4",
   "metadata": {},
   "source": [
    "_______________________________________________________________________________________________________________________________"
   ]
  },
  {
   "cell_type": "code",
   "execution_count": 84,
   "id": "9d2e53a6",
   "metadata": {},
   "outputs": [
    {
     "name": "stdout",
     "output_type": "stream",
     "text": [
      "[*********************100%***********************]  1 of 1 completed\n"
     ]
    },
    {
     "data": {
      "text/html": [
       "<div>\n",
       "<style scoped>\n",
       "    .dataframe tbody tr th:only-of-type {\n",
       "        vertical-align: middle;\n",
       "    }\n",
       "\n",
       "    .dataframe tbody tr th {\n",
       "        vertical-align: top;\n",
       "    }\n",
       "\n",
       "    .dataframe thead th {\n",
       "        text-align: right;\n",
       "    }\n",
       "</style>\n",
       "<table border=\"1\" class=\"dataframe\">\n",
       "  <thead>\n",
       "    <tr style=\"text-align: right;\">\n",
       "      <th></th>\n",
       "      <th>Open</th>\n",
       "      <th>High</th>\n",
       "      <th>Low</th>\n",
       "      <th>Close</th>\n",
       "      <th>Adj Close</th>\n",
       "      <th>Volume</th>\n",
       "    </tr>\n",
       "    <tr>\n",
       "      <th>Date</th>\n",
       "      <th></th>\n",
       "      <th></th>\n",
       "      <th></th>\n",
       "      <th></th>\n",
       "      <th></th>\n",
       "      <th></th>\n",
       "    </tr>\n",
       "  </thead>\n",
       "  <tbody>\n",
       "    <tr>\n",
       "      <th>2012-05-31</th>\n",
       "      <td>33.015556</td>\n",
       "      <td>33.868889</td>\n",
       "      <td>31.057778</td>\n",
       "      <td>31.870000</td>\n",
       "      <td>31.870000</td>\n",
       "      <td>1.390570e+08</td>\n",
       "    </tr>\n",
       "    <tr>\n",
       "      <th>2012-06-30</th>\n",
       "      <td>29.537143</td>\n",
       "      <td>30.232381</td>\n",
       "      <td>28.893333</td>\n",
       "      <td>29.540476</td>\n",
       "      <td>29.540476</td>\n",
       "      <td>3.180526e+07</td>\n",
       "    </tr>\n",
       "    <tr>\n",
       "      <th>2012-07-31</th>\n",
       "      <td>29.143333</td>\n",
       "      <td>29.598095</td>\n",
       "      <td>28.437619</td>\n",
       "      <td>28.880000</td>\n",
       "      <td>28.880000</td>\n",
       "      <td>2.477094e+07</td>\n",
       "    </tr>\n",
       "    <tr>\n",
       "      <th>2012-08-31</th>\n",
       "      <td>20.287391</td>\n",
       "      <td>20.644783</td>\n",
       "      <td>19.768696</td>\n",
       "      <td>20.108261</td>\n",
       "      <td>20.108261</td>\n",
       "      <td>5.008456e+07</td>\n",
       "    </tr>\n",
       "    <tr>\n",
       "      <th>2012-09-30</th>\n",
       "      <td>20.629474</td>\n",
       "      <td>21.089474</td>\n",
       "      <td>20.170526</td>\n",
       "      <td>20.627895</td>\n",
       "      <td>20.627895</td>\n",
       "      <td>5.571809e+07</td>\n",
       "    </tr>\n",
       "  </tbody>\n",
       "</table>\n",
       "</div>"
      ],
      "text/plain": [
       "                 Open       High        Low      Close  Adj Close  \\\n",
       "Date                                                                \n",
       "2012-05-31  33.015556  33.868889  31.057778  31.870000  31.870000   \n",
       "2012-06-30  29.537143  30.232381  28.893333  29.540476  29.540476   \n",
       "2012-07-31  29.143333  29.598095  28.437619  28.880000  28.880000   \n",
       "2012-08-31  20.287391  20.644783  19.768696  20.108261  20.108261   \n",
       "2012-09-30  20.629474  21.089474  20.170526  20.627895  20.627895   \n",
       "\n",
       "                  Volume  \n",
       "Date                      \n",
       "2012-05-31  1.390570e+08  \n",
       "2012-06-30  3.180526e+07  \n",
       "2012-07-31  2.477094e+07  \n",
       "2012-08-31  5.008456e+07  \n",
       "2012-09-30  5.571809e+07  "
      ]
     },
     "execution_count": 84,
     "metadata": {},
     "output_type": "execute_result"
    }
   ],
   "source": [
    "import pandas as pd\n",
    "import numpy as np\n",
    "import yfinance as yf\n",
    "#Tecnologia\n",
    "meta_df = yf.download('FB', start='2011-11-30', end='2021-11-30')\n",
    "meta_df = meta_df.groupby(pd.Grouper(freq='M')).mean()\n",
    "meta_df.head()"
   ]
  },
  {
   "cell_type": "markdown",
   "id": "37e926db",
   "metadata": {},
   "source": [
    "_______________________________________________________________________________________________________________________________"
   ]
  },
  {
   "cell_type": "markdown",
   "id": "1318bd06",
   "metadata": {},
   "source": [
    "a. Calcolare i rendimenti semplici e composti e visualizzarli in un grafico"
   ]
  },
  {
   "cell_type": "markdown",
   "id": "e3c80559",
   "metadata": {},
   "source": [
    "_______________________________________________________________________________________________________________________________"
   ]
  },
  {
   "cell_type": "markdown",
   "id": "bc396c95",
   "metadata": {},
   "source": [
    "Rendimenti Semplici"
   ]
  },
  {
   "cell_type": "markdown",
   "id": "eec43131",
   "metadata": {},
   "source": [
    "_______________________________________________________________________________________________________________________________"
   ]
  },
  {
   "cell_type": "code",
   "execution_count": 97,
   "id": "54c0b434",
   "metadata": {},
   "outputs": [
    {
     "data": {
      "text/html": [
       "<div>\n",
       "<style scoped>\n",
       "    .dataframe tbody tr th:only-of-type {\n",
       "        vertical-align: middle;\n",
       "    }\n",
       "\n",
       "    .dataframe tbody tr th {\n",
       "        vertical-align: top;\n",
       "    }\n",
       "\n",
       "    .dataframe thead th {\n",
       "        text-align: right;\n",
       "    }\n",
       "</style>\n",
       "<table border=\"1\" class=\"dataframe\">\n",
       "  <thead>\n",
       "    <tr style=\"text-align: right;\">\n",
       "      <th></th>\n",
       "      <th>Adj Close</th>\n",
       "    </tr>\n",
       "    <tr>\n",
       "      <th>Date</th>\n",
       "      <th></th>\n",
       "    </tr>\n",
       "  </thead>\n",
       "  <tbody>\n",
       "    <tr>\n",
       "      <th>2012-06-30</th>\n",
       "      <td>-0.075904</td>\n",
       "    </tr>\n",
       "    <tr>\n",
       "      <th>2012-07-31</th>\n",
       "      <td>-0.022612</td>\n",
       "    </tr>\n",
       "    <tr>\n",
       "      <th>2012-08-31</th>\n",
       "      <td>-0.362019</td>\n",
       "    </tr>\n",
       "    <tr>\n",
       "      <th>2012-09-30</th>\n",
       "      <td>0.025514</td>\n",
       "    </tr>\n",
       "    <tr>\n",
       "      <th>2012-10-31</th>\n",
       "      <td>-0.000406</td>\n",
       "    </tr>\n",
       "  </tbody>\n",
       "</table>\n",
       "</div>"
      ],
      "text/plain": [
       "            Adj Close\n",
       "Date                 \n",
       "2012-06-30  -0.075904\n",
       "2012-07-31  -0.022612\n",
       "2012-08-31  -0.362019\n",
       "2012-09-30   0.025514\n",
       "2012-10-31  -0.000406"
      ]
     },
     "execution_count": 97,
     "metadata": {},
     "output_type": "execute_result"
    }
   ],
   "source": [
    "import numpy as np\n",
    "import yfinance as yf\n",
    "import matplotlib.pyplot as plt\n",
    "#Tecnologia\n",
    "meta_month_returns = meta_df[['Adj Close']]\n",
    "meta_month_returns = np.log(daily_returns/daily_returns.shift(1))\n",
    "meta_month_returns = daily_log_returns.dropna()\n",
    "meta_month_returns.head()"
   ]
  },
  {
   "cell_type": "code",
   "execution_count": 317,
   "id": "1c49a412",
   "metadata": {},
   "outputs": [
    {
     "data": {
      "image/png": "[encoded data removed]",
      "text/plain": [
       "<Figure size 864x576 with 1 Axes>"
      ]
     },
     "metadata": {
      "needs_background": "light"
     },
     "output_type": "display_data"
    }
   ],
   "source": [
    "daily_log_returns.plot(figsize=(12,8))\n",
    "plt.show()"
   ]
  },
  {
   "cell_type": "markdown",
   "id": "bbfdd551",
   "metadata": {},
   "source": [
    "_______________________________________________________________________________________________________________________________"
   ]
  },
  {
   "cell_type": "markdown",
   "id": "0534d796",
   "metadata": {},
   "source": [
    "Rendimenti Composti"
   ]
  },
  {
   "cell_type": "markdown",
   "id": "d7f40268",
   "metadata": {},
   "source": [
    "_______________________________________________________________________________________________________________________________"
   ]
  },
  {
   "cell_type": "code",
   "execution_count": 101,
   "id": "a1ad4612",
   "metadata": {},
   "outputs": [
    {
     "data": {
      "text/html": [
       "<div>\n",
       "<style scoped>\n",
       "    .dataframe tbody tr th:only-of-type {\n",
       "        vertical-align: middle;\n",
       "    }\n",
       "\n",
       "    .dataframe tbody tr th {\n",
       "        vertical-align: top;\n",
       "    }\n",
       "\n",
       "    .dataframe thead th {\n",
       "        text-align: right;\n",
       "    }\n",
       "</style>\n",
       "<table border=\"1\" class=\"dataframe\">\n",
       "  <thead>\n",
       "    <tr style=\"text-align: right;\">\n",
       "      <th></th>\n",
       "      <th>Adj Close</th>\n",
       "    </tr>\n",
       "    <tr>\n",
       "      <th>Date</th>\n",
       "      <th></th>\n",
       "    </tr>\n",
       "  </thead>\n",
       "  <tbody>\n",
       "    <tr>\n",
       "      <th>2012-06-30</th>\n",
       "      <td>0.924096</td>\n",
       "    </tr>\n",
       "    <tr>\n",
       "      <th>2012-07-31</th>\n",
       "      <td>0.903201</td>\n",
       "    </tr>\n",
       "    <tr>\n",
       "      <th>2012-08-31</th>\n",
       "      <td>0.576225</td>\n",
       "    </tr>\n",
       "    <tr>\n",
       "      <th>2012-09-30</th>\n",
       "      <td>0.590927</td>\n",
       "    </tr>\n",
       "    <tr>\n",
       "      <th>2012-10-31</th>\n",
       "      <td>0.590687</td>\n",
       "    </tr>\n",
       "    <tr>\n",
       "      <th>...</th>\n",
       "      <td>...</td>\n",
       "    </tr>\n",
       "    <tr>\n",
       "      <th>2021-07-31</th>\n",
       "      <td>7.487620</td>\n",
       "    </tr>\n",
       "    <tr>\n",
       "      <th>2021-08-31</th>\n",
       "      <td>7.689137</td>\n",
       "    </tr>\n",
       "    <tr>\n",
       "      <th>2021-09-30</th>\n",
       "      <td>7.709239</td>\n",
       "    </tr>\n",
       "    <tr>\n",
       "      <th>2021-10-31</th>\n",
       "      <td>6.922713</td>\n",
       "    </tr>\n",
       "    <tr>\n",
       "      <th>2021-11-30</th>\n",
       "      <td>7.098822</td>\n",
       "    </tr>\n",
       "  </tbody>\n",
       "</table>\n",
       "<p>114 rows × 1 columns</p>\n",
       "</div>"
      ],
      "text/plain": [
       "            Adj Close\n",
       "Date                 \n",
       "2012-06-30   0.924096\n",
       "2012-07-31   0.903201\n",
       "2012-08-31   0.576225\n",
       "2012-09-30   0.590927\n",
       "2012-10-31   0.590687\n",
       "...               ...\n",
       "2021-07-31   7.487620\n",
       "2021-08-31   7.689137\n",
       "2021-09-30   7.709239\n",
       "2021-10-31   6.922713\n",
       "2021-11-30   7.098822\n",
       "\n",
       "[114 rows x 1 columns]"
      ]
     },
     "execution_count": 101,
     "metadata": {},
     "output_type": "execute_result"
    }
   ],
   "source": [
    "cum_daily_return = (1 + meta_month_returns).cumprod()\n",
    "cum_daily_return\n"
   ]
  },
  {
   "cell_type": "code",
   "execution_count": 100,
   "id": "284d78c8",
   "metadata": {},
   "outputs": [
    {
     "data": {
      "image/png": "[encoded data removed]",
      "text/plain": [
       "<Figure size 864x576 with 1 Axes>"
      ]
     },
     "metadata": {
      "needs_background": "light"
     },
     "output_type": "display_data"
    }
   ],
   "source": [
    "cum_daily_return.plot(figsize=(12,8))\n",
    "plt.show()"
   ]
  },
  {
   "cell_type": "markdown",
   "id": "c981e26a",
   "metadata": {},
   "source": [
    "_______________________________________________________________________________________________________________________________"
   ]
  },
  {
   "cell_type": "code",
   "execution_count": null,
   "id": "c299d266",
   "metadata": {},
   "outputs": [],
   "source": [
    "b. Commentare"
   ]
  },
  {
   "cell_type": "markdown",
   "id": "d6ccaa01",
   "metadata": {},
   "source": [
    "_______________________________________________________________________________________________________________________________"
   ]
  },
  {
   "cell_type": "code",
   "execution_count": 212,
   "id": "221c548e",
   "metadata": {},
   "outputs": [
    {
     "name": "stdout",
     "output_type": "stream",
     "text": [
      "[*********************100%***********************]  1 of 1 completed\n",
      "[*********************100%***********************]  1 of 1 completed\n"
     ]
    },
    {
     "data": {
      "text/html": [
       "<div>\n",
       "<style scoped>\n",
       "    .dataframe tbody tr th:only-of-type {\n",
       "        vertical-align: middle;\n",
       "    }\n",
       "\n",
       "    .dataframe tbody tr th {\n",
       "        vertical-align: top;\n",
       "    }\n",
       "\n",
       "    .dataframe thead th {\n",
       "        text-align: right;\n",
       "    }\n",
       "</style>\n",
       "<table border=\"1\" class=\"dataframe\">\n",
       "  <thead>\n",
       "    <tr style=\"text-align: right;\">\n",
       "      <th></th>\n",
       "      <th>Open_Meta</th>\n",
       "      <th>High_Meta</th>\n",
       "      <th>Low_Meta</th>\n",
       "      <th>Close_Meta</th>\n",
       "      <th>Adj Close_Meta</th>\n",
       "      <th>Volume_Meta</th>\n",
       "      <th>Open_Apple</th>\n",
       "      <th>High_Apple</th>\n",
       "      <th>Low_Apple</th>\n",
       "      <th>Close_Apple</th>\n",
       "      <th>Adj Close_Apple</th>\n",
       "      <th>Volume_Apple</th>\n",
       "    </tr>\n",
       "    <tr>\n",
       "      <th>Date</th>\n",
       "      <th></th>\n",
       "      <th></th>\n",
       "      <th></th>\n",
       "      <th></th>\n",
       "      <th></th>\n",
       "      <th></th>\n",
       "      <th></th>\n",
       "      <th></th>\n",
       "      <th></th>\n",
       "      <th></th>\n",
       "      <th></th>\n",
       "      <th></th>\n",
       "    </tr>\n",
       "  </thead>\n",
       "  <tbody>\n",
       "    <tr>\n",
       "      <th>2012-12-31</th>\n",
       "      <td>24.799613</td>\n",
       "      <td>25.300903</td>\n",
       "      <td>24.195871</td>\n",
       "      <td>24.673097</td>\n",
       "      <td>24.673097</td>\n",
       "      <td>5.464815e+07</td>\n",
       "      <td>21.524984</td>\n",
       "      <td>21.715758</td>\n",
       "      <td>21.271256</td>\n",
       "      <td>21.501701</td>\n",
       "      <td>18.503840</td>\n",
       "      <td>4.923590e+08</td>\n",
       "    </tr>\n",
       "    <tr>\n",
       "      <th>2013-12-31</th>\n",
       "      <td>35.476429</td>\n",
       "      <td>36.045040</td>\n",
       "      <td>34.930159</td>\n",
       "      <td>35.481151</td>\n",
       "      <td>35.481151</td>\n",
       "      <td>6.009199e+07</td>\n",
       "      <td>16.897433</td>\n",
       "      <td>17.058533</td>\n",
       "      <td>16.723111</td>\n",
       "      <td>16.879817</td>\n",
       "      <td>14.799177</td>\n",
       "      <td>4.064348e+08</td>\n",
       "    </tr>\n",
       "    <tr>\n",
       "      <th>2014-12-31</th>\n",
       "      <td>68.763968</td>\n",
       "      <td>69.639524</td>\n",
       "      <td>67.830199</td>\n",
       "      <td>68.762341</td>\n",
       "      <td>68.762341</td>\n",
       "      <td>4.753055e+07</td>\n",
       "      <td>23.054958</td>\n",
       "      <td>23.253166</td>\n",
       "      <td>22.868885</td>\n",
       "      <td>23.066164</td>\n",
       "      <td>20.711916</td>\n",
       "      <td>2.526109e+08</td>\n",
       "    </tr>\n",
       "    <tr>\n",
       "      <th>2015-12-31</th>\n",
       "      <td>88.749405</td>\n",
       "      <td>89.683373</td>\n",
       "      <td>87.762778</td>\n",
       "      <td>88.772857</td>\n",
       "      <td>88.772857</td>\n",
       "      <td>2.695888e+07</td>\n",
       "      <td>30.043938</td>\n",
       "      <td>30.311131</td>\n",
       "      <td>29.715774</td>\n",
       "      <td>30.010000</td>\n",
       "      <td>27.407819</td>\n",
       "      <td>2.073976e+08</td>\n",
       "    </tr>\n",
       "    <tr>\n",
       "      <th>2016-12-31</th>\n",
       "      <td>117.081071</td>\n",
       "      <td>118.091706</td>\n",
       "      <td>115.865873</td>\n",
       "      <td>117.035873</td>\n",
       "      <td>117.035873</td>\n",
       "      <td>2.547507e+07</td>\n",
       "      <td>26.126944</td>\n",
       "      <td>26.356796</td>\n",
       "      <td>25.922569</td>\n",
       "      <td>26.151002</td>\n",
       "      <td>24.378622</td>\n",
       "      <td>1.536901e+08</td>\n",
       "    </tr>\n",
       "  </tbody>\n",
       "</table>\n",
       "</div>"
      ],
      "text/plain": [
       "             Open_Meta   High_Meta    Low_Meta  Close_Meta  Adj Close_Meta  \\\n",
       "Date                                                                         \n",
       "2012-12-31   24.799613   25.300903   24.195871   24.673097       24.673097   \n",
       "2013-12-31   35.476429   36.045040   34.930159   35.481151       35.481151   \n",
       "2014-12-31   68.763968   69.639524   67.830199   68.762341       68.762341   \n",
       "2015-12-31   88.749405   89.683373   87.762778   88.772857       88.772857   \n",
       "2016-12-31  117.081071  118.091706  115.865873  117.035873      117.035873   \n",
       "\n",
       "             Volume_Meta  Open_Apple  High_Apple  Low_Apple  Close_Apple  \\\n",
       "Date                                                                       \n",
       "2012-12-31  5.464815e+07   21.524984   21.715758  21.271256    21.501701   \n",
       "2013-12-31  6.009199e+07   16.897433   17.058533  16.723111    16.879817   \n",
       "2014-12-31  4.753055e+07   23.054958   23.253166  22.868885    23.066164   \n",
       "2015-12-31  2.695888e+07   30.043938   30.311131  29.715774    30.010000   \n",
       "2016-12-31  2.547507e+07   26.126944   26.356796  25.922569    26.151002   \n",
       "\n",
       "            Adj Close_Apple  Volume_Apple  \n",
       "Date                                       \n",
       "2012-12-31        18.503840  4.923590e+08  \n",
       "2013-12-31        14.799177  4.064348e+08  \n",
       "2014-12-31        20.711916  2.526109e+08  \n",
       "2015-12-31        27.407819  2.073976e+08  \n",
       "2016-12-31        24.378622  1.536901e+08  "
      ]
     },
     "execution_count": 212,
     "metadata": {},
     "output_type": "execute_result"
    }
   ],
   "source": [
    "#Tecnologia\n",
    "meta_df = yf.download('FB', start='2011-11-30', end='2021-11-30')\n",
    "apple_df = yf.download('AAPL', start='2011-11-30', end='2021-11-30')\n",
    "apple_meta_df = meta_df.join(apple_df, lsuffix='_Meta', rsuffix='_Apple')\n",
    "apple_meta_df = apple_meta_df.groupby(pd.Grouper(freq='Y')).mean()\n",
    "apple_meta_df.head()"
   ]
  },
  {
   "cell_type": "code",
   "execution_count": 213,
   "id": "8fd8e645",
   "metadata": {},
   "outputs": [
    {
     "data": {
      "text/html": [
       "<div>\n",
       "<style scoped>\n",
       "    .dataframe tbody tr th:only-of-type {\n",
       "        vertical-align: middle;\n",
       "    }\n",
       "\n",
       "    .dataframe tbody tr th {\n",
       "        vertical-align: top;\n",
       "    }\n",
       "\n",
       "    .dataframe thead th {\n",
       "        text-align: right;\n",
       "    }\n",
       "</style>\n",
       "<table border=\"1\" class=\"dataframe\">\n",
       "  <thead>\n",
       "    <tr style=\"text-align: right;\">\n",
       "      <th></th>\n",
       "      <th>Adj Close_Meta</th>\n",
       "      <th>Adj Close_Apple</th>\n",
       "    </tr>\n",
       "    <tr>\n",
       "      <th>Date</th>\n",
       "      <th></th>\n",
       "      <th></th>\n",
       "    </tr>\n",
       "  </thead>\n",
       "  <tbody>\n",
       "    <tr>\n",
       "      <th>2012-12-31</th>\n",
       "      <td>24.673097</td>\n",
       "      <td>18.503840</td>\n",
       "    </tr>\n",
       "    <tr>\n",
       "      <th>2013-12-31</th>\n",
       "      <td>35.481151</td>\n",
       "      <td>14.799177</td>\n",
       "    </tr>\n",
       "    <tr>\n",
       "      <th>2014-12-31</th>\n",
       "      <td>68.762341</td>\n",
       "      <td>20.711916</td>\n",
       "    </tr>\n",
       "    <tr>\n",
       "      <th>2015-12-31</th>\n",
       "      <td>88.772857</td>\n",
       "      <td>27.407819</td>\n",
       "    </tr>\n",
       "    <tr>\n",
       "      <th>2016-12-31</th>\n",
       "      <td>117.035873</td>\n",
       "      <td>24.378622</td>\n",
       "    </tr>\n",
       "  </tbody>\n",
       "</table>\n",
       "</div>"
      ],
      "text/plain": [
       "            Adj Close_Meta  Adj Close_Apple\n",
       "Date                                       \n",
       "2012-12-31       24.673097        18.503840\n",
       "2013-12-31       35.481151        14.799177\n",
       "2014-12-31       68.762341        20.711916\n",
       "2015-12-31       88.772857        27.407819\n",
       "2016-12-31      117.035873        24.378622"
      ]
     },
     "execution_count": 213,
     "metadata": {},
     "output_type": "execute_result"
    }
   ],
   "source": [
    "apple_meta_df = apple_meta_df[['Adj Close_Meta', 'Adj Close_Apple']]\n",
    "apple_meta_df.head()"
   ]
  },
  {
   "cell_type": "code",
   "execution_count": 214,
   "id": "25487d7f",
   "metadata": {},
   "outputs": [
    {
     "data": {
      "text/html": [
       "<div>\n",
       "<style scoped>\n",
       "    .dataframe tbody tr th:only-of-type {\n",
       "        vertical-align: middle;\n",
       "    }\n",
       "\n",
       "    .dataframe tbody tr th {\n",
       "        vertical-align: top;\n",
       "    }\n",
       "\n",
       "    .dataframe thead th {\n",
       "        text-align: right;\n",
       "    }\n",
       "</style>\n",
       "<table border=\"1\" class=\"dataframe\">\n",
       "  <thead>\n",
       "    <tr style=\"text-align: right;\">\n",
       "      <th></th>\n",
       "      <th>Adj Close_Meta</th>\n",
       "      <th>Adj Close_Apple</th>\n",
       "    </tr>\n",
       "    <tr>\n",
       "      <th>Date</th>\n",
       "      <th></th>\n",
       "      <th></th>\n",
       "    </tr>\n",
       "  </thead>\n",
       "  <tbody>\n",
       "    <tr>\n",
       "      <th>2013-12-31</th>\n",
       "      <td>0.438050</td>\n",
       "      <td>-0.200211</td>\n",
       "    </tr>\n",
       "    <tr>\n",
       "      <th>2014-12-31</th>\n",
       "      <td>0.937996</td>\n",
       "      <td>0.399532</td>\n",
       "    </tr>\n",
       "    <tr>\n",
       "      <th>2015-12-31</th>\n",
       "      <td>0.291010</td>\n",
       "      <td>0.323288</td>\n",
       "    </tr>\n",
       "    <tr>\n",
       "      <th>2016-12-31</th>\n",
       "      <td>0.318375</td>\n",
       "      <td>-0.110523</td>\n",
       "    </tr>\n",
       "    <tr>\n",
       "      <th>2017-12-31</th>\n",
       "      <td>0.337848</td>\n",
       "      <td>0.466393</td>\n",
       "    </tr>\n",
       "    <tr>\n",
       "      <th>2018-12-31</th>\n",
       "      <td>0.095383</td>\n",
       "      <td>0.274878</td>\n",
       "    </tr>\n",
       "    <tr>\n",
       "      <th>2019-12-31</th>\n",
       "      <td>0.059043</td>\n",
       "      <td>0.118957</td>\n",
       "    </tr>\n",
       "    <tr>\n",
       "      <th>2020-12-31</th>\n",
       "      <td>0.291313</td>\n",
       "      <td>0.852308</td>\n",
       "    </tr>\n",
       "    <tr>\n",
       "      <th>2021-12-31</th>\n",
       "      <td>0.365256</td>\n",
       "      <td>0.453924</td>\n",
       "    </tr>\n",
       "  </tbody>\n",
       "</table>\n",
       "</div>"
      ],
      "text/plain": [
       "            Adj Close_Meta  Adj Close_Apple\n",
       "Date                                       \n",
       "2013-12-31        0.438050        -0.200211\n",
       "2014-12-31        0.937996         0.399532\n",
       "2015-12-31        0.291010         0.323288\n",
       "2016-12-31        0.318375        -0.110523\n",
       "2017-12-31        0.337848         0.466393\n",
       "2018-12-31        0.095383         0.274878\n",
       "2019-12-31        0.059043         0.118957\n",
       "2020-12-31        0.291313         0.852308\n",
       "2021-12-31        0.365256         0.453924"
      ]
     },
     "execution_count": 214,
     "metadata": {},
     "output_type": "execute_result"
    }
   ],
   "source": [
    "apple_meta_returns = apple_meta_df.pct_change()\n",
    "apple_meta_returns = apple_meta_returns.dropna()\n",
    "apple_meta_returns.head(20)"
   ]
  },
  {
   "cell_type": "code",
   "execution_count": 215,
   "id": "957b33ea",
   "metadata": {},
   "outputs": [
    {
     "data": {
      "image/png": "[encoded data removed]",
      "text/plain": [
       "<Figure size 432x288 with 1 Axes>"
      ]
     },
     "metadata": {
      "needs_background": "light"
     },
     "output_type": "display_data"
    }
   ],
   "source": [
    "apple_meta_returns.plot(grid=True, title = 'Simple Logarithm Returns of Meta and Apple index yearly');"
   ]
  },
  {
   "cell_type": "markdown",
   "id": "ec395961",
   "metadata": {},
   "source": [
    "Apple:\n",
    "Nel periodo 2015-2016 c'è stato un decremento di domanda da parte dell'Asia verso i prodotti Apple, questo spiega la consguente perdita con un ritorno semplice atteso che passò da positivo del 32% ad un negativo -11%.\n",
    "\n",
    "(articolo di Fortune scritto nel 2016)\n",
    "Gli analisti avevano ampiamente previsto un simile risultato, in parte perché le vendite di iPhone nei primi tre mesi del 2015 sono state artificialmente aumentate da gravi carenze di approvvigionamento che hanno ritardato le vendite dall'ultimo trimestre del 2014. \n",
    "Un altro fattore è stato il rafforzamento del dollaro USA dal 2015, che ha effettivamente ridotto il valore delle vendite di Apple all'estero di oltre 2 miliardi di dollari, ovvero circa 4%.\n",
    "link articolo: https://fortune.com/2016/05/06/apple-shares-two-year-low/\n",
    "link articolo: https://fortune.com/2016/04/26/apple-future-update-iphone/\n",
    "\n",
    "\n",
    "\n",
    "Nel periodo 2019-2020 da 11% a 85%\n",
    "La crescita esplosiva di AirPods, lo slancio promettente per l'Apple Watch e la promessa di un più grande salto tecnologico e delle funzionalità per la linea di iPhone nel 2020 hanno alimentato un grande anno per le azioni Apple.\n",
    "Toni Sacconaghi, analista di Bernstein Research, stima che le vendite di AirPod siano state di circa 6 miliardi di dollari nel 2019 e siano quasi raddoppiate rispetto al 2018. L'analista di Bernstein prevede che le entrate di AirPod raggiungeranno i 15 miliardi di dollari nel 2020.\n",
    "link articolo: https://www.fool.com/investing/2020/01/12/why-apple-stock-soared-862-in-2019.aspx\n",
    "\n",
    "\n",
    "\n",
    "\n",
    "Facebook/Meta:\n",
    "\n",
    "Nel periodo 2017-2019 il ritorno semplice atteso delle azioni di Facebook passarono da un 34% ad un 0.9% a fine 2019.\n",
    "Dovuto ai seguenti eventi:\n",
    "\n",
    "-Dichiarazione di Mark Zuckemberg:\n",
    "Gli utenti spendono meno tempo sulla sua piattaforma.\n",
    "\n",
    "-Cambridge Analitica: \n",
    "il più grande scandalo nella storia di facebook.\n",
    "Un ricercatore esterno ha raccolto e poi venduto i dati personali di decine di milioni di utenti alla società di analisi che ha aiutato a eleggere il presidente di Donald Trump. \n",
    "La rivelazione ha dato il via a una serie di eventi, tra cui un'indagine formale della Federal Trade Commission sulle pratiche sulla privacy di Facebook che ha portato a una multa di 5 miliardi di dollari un anno dopo.\n",
    "\n",
    "-Earning disaster:\n",
    "La società ha mancato in modo insolito le stime sugli utili per le entrate e la crescita degli utenti, alimentando le preoccupazioni che i suoi scandali avessero finalmente colpito l'azienda. Facebook ha perso 121 miliardi di dollari di valore di mercato in seguito al rapporto.\n",
    "\n",
    "\n",
    "immagine:\n",
    "https://assets.bwbx.io/images/users/iqjWHBFdfxIU/iQ2BOKamCy58/v2/pidjEfPlU1QWZop3vfGKsrX.ke8XuWirGYh1PKgEw44kE/-1x-1.png\n"
   ]
  },
  {
   "cell_type": "markdown",
   "id": "149e3747",
   "metadata": {},
   "source": [
    "correlazione tra Apple e Meta?"
   ]
  },
  {
   "cell_type": "markdown",
   "id": "c4944f41",
   "metadata": {},
   "source": [
    "La correlazione statica di Apple e Meta è 0.081 che indica una correlazione positiva debole.\n",
    "Creiamo un grafico di calore per vederlo visivamente"
   ]
  },
  {
   "cell_type": "code",
   "execution_count": 332,
   "id": "4707201d",
   "metadata": {},
   "outputs": [
    {
     "name": "stdout",
     "output_type": "stream",
     "text": [
      "[*********************100%***********************]  2 of 2 completed\n"
     ]
    },
    {
     "data": {
      "text/html": [
       "<div>\n",
       "<style scoped>\n",
       "    .dataframe tbody tr th:only-of-type {\n",
       "        vertical-align: middle;\n",
       "    }\n",
       "\n",
       "    .dataframe tbody tr th {\n",
       "        vertical-align: top;\n",
       "    }\n",
       "\n",
       "    .dataframe thead th {\n",
       "        text-align: right;\n",
       "    }\n",
       "</style>\n",
       "<table border=\"1\" class=\"dataframe\">\n",
       "  <thead>\n",
       "    <tr style=\"text-align: right;\">\n",
       "      <th></th>\n",
       "      <th>AAPL</th>\n",
       "      <th>FB</th>\n",
       "    </tr>\n",
       "  </thead>\n",
       "  <tbody>\n",
       "    <tr>\n",
       "      <th>AAPL</th>\n",
       "      <td>1.000000</td>\n",
       "      <td>0.402076</td>\n",
       "    </tr>\n",
       "    <tr>\n",
       "      <th>FB</th>\n",
       "      <td>0.402076</td>\n",
       "      <td>1.000000</td>\n",
       "    </tr>\n",
       "  </tbody>\n",
       "</table>\n",
       "</div>"
      ],
      "text/plain": [
       "          AAPL        FB\n",
       "AAPL  1.000000  0.402076\n",
       "FB    0.402076  1.000000"
      ]
     },
     "execution_count": 332,
     "metadata": {},
     "output_type": "execute_result"
    }
   ],
   "source": [
    "import seaborn as sns\n",
    "\n",
    "data_df = yf.download('FB AAPL', start='2011-11-30', end='2021-11-30')\n",
    "data_df = data_df['Adj Close']\n",
    "returns = data_df.pct_change()\n",
    "returns = returns.dropna()\n",
    "correlation = returns.corr()\n",
    "correlation"
   ]
  },
  {
   "cell_type": "code",
   "execution_count": 335,
   "id": "718e59b4",
   "metadata": {},
   "outputs": [
    {
     "data": {
      "text/plain": [
       "<AxesSubplot:>"
      ]
     },
     "execution_count": 335,
     "metadata": {},
     "output_type": "execute_result"
    },
    {
     "data": {
      "image/png": "[encoded data removed]",
      "text/plain": [
       "<Figure size 720x360 with 2 Axes>"
      ]
     },
     "metadata": {},
     "output_type": "display_data"
    }
   ],
   "source": [
    "sns.set(rc ={'figure.figsize' : (10, 5)})\n",
    "sns.heatmap(correlation, annot=True)"
   ]
  },
  {
   "cell_type": "markdown",
   "id": "4d899c32",
   "metadata": {},
   "source": [
    "Possiamo vedere come, seppure esiste una correlazione positiva tra apple e meta, quest'ultima sia molto debole."
   ]
  },
  {
   "cell_type": "markdown",
   "id": "32e5751b",
   "metadata": {},
   "source": [
    "_______________________________________________________________________________________________________________________________"
   ]
  },
  {
   "cell_type": "code",
   "execution_count": null,
   "id": "10c3a1c7",
   "metadata": {},
   "outputs": [],
   "source": [
    "#Automobili\n",
    "meta_df = yf.download('FB', start='2011-11-30', end='2021-11-30')\n",
    "apple_df = yf.download('AAPL', start='2011-11-30', end='2021-11-30')\n",
    "apple_meta_df = meta_df.join(apple_df, lsuffix='_Meta', rsuffix='_Apple')\n",
    "apple_meta_df = apple_meta_df.groupby(pd.Grouper(freq='Y')).mean()\n",
    "apple_meta_df.head()"
   ]
  },
  {
   "cell_type": "code",
   "execution_count": null,
   "id": "f97b81ab",
   "metadata": {},
   "outputs": [],
   "source": []
  },
  {
   "cell_type": "code",
   "execution_count": null,
   "id": "592a76db",
   "metadata": {},
   "outputs": [],
   "source": []
  },
  {
   "cell_type": "code",
   "execution_count": null,
   "id": "2d678012",
   "metadata": {},
   "outputs": [],
   "source": []
  },
  {
   "cell_type": "code",
   "execution_count": null,
   "id": "298b623c",
   "metadata": {},
   "outputs": [],
   "source": []
  },
  {
   "cell_type": "code",
   "execution_count": null,
   "id": "94fb2b51",
   "metadata": {},
   "outputs": [],
   "source": []
  },
  {
   "cell_type": "code",
   "execution_count": null,
   "id": "785eba4b",
   "metadata": {},
   "outputs": [],
   "source": []
  }
 ],
 "metadata": {
  "kernelspec": {
   "display_name": "Python 3 (ipykernel)",
   "language": "python",
   "name": "python3"
  },
  "language_info": {
   "codemirror_mode": {
    "name": "ipython",
    "version": 3
   },
   "file_extension": ".py",
   "mimetype": "text/x-python",
   "name": "python",
   "nbconvert_exporter": "python",
   "pygments_lexer": "ipython3",
   "version": "3.9.7"
  }
 },
 "nbformat": 4,
 "nbformat_minor": 5
}
